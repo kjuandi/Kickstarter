{
 "cells": [
  {
   "cell_type": "code",
   "execution_count": 1,
   "id": "10878c54",
   "metadata": {},
   "outputs": [
    {
     "data": {
      "text/html": [
       "<div>\n",
       "<style scoped>\n",
       "    .dataframe tbody tr th:only-of-type {\n",
       "        vertical-align: middle;\n",
       "    }\n",
       "\n",
       "    .dataframe tbody tr th {\n",
       "        vertical-align: top;\n",
       "    }\n",
       "\n",
       "    .dataframe thead th {\n",
       "        text-align: right;\n",
       "    }\n",
       "</style>\n",
       "<table border=\"1\" class=\"dataframe\">\n",
       "  <thead>\n",
       "    <tr style=\"text-align: right;\">\n",
       "      <th></th>\n",
       "      <th>project id</th>\n",
       "      <th>name</th>\n",
       "      <th>url</th>\n",
       "      <th>category</th>\n",
       "      <th>subcategory</th>\n",
       "      <th>location</th>\n",
       "      <th>status</th>\n",
       "      <th>goal</th>\n",
       "      <th>pledged</th>\n",
       "      <th>funded percentage</th>\n",
       "      <th>backers</th>\n",
       "      <th>funded date</th>\n",
       "      <th>levels</th>\n",
       "      <th>reward levels</th>\n",
       "      <th>updates</th>\n",
       "      <th>comments</th>\n",
       "      <th>duration</th>\n",
       "    </tr>\n",
       "  </thead>\n",
       "  <tbody>\n",
       "    <tr>\n",
       "      <th>0</th>\n",
       "      <td>39409</td>\n",
       "      <td>WHILE THE TREES SLEEP</td>\n",
       "      <td>http://www.kickstarter.com/projects/emiliesaba...</td>\n",
       "      <td>Film &amp; Video</td>\n",
       "      <td>Short Film</td>\n",
       "      <td>Columbia, MO</td>\n",
       "      <td>successful</td>\n",
       "      <td>10500.0</td>\n",
       "      <td>11545.0</td>\n",
       "      <td>1.099524</td>\n",
       "      <td>66</td>\n",
       "      <td>Fri, 19 Aug 2011 19:28:17 -0000</td>\n",
       "      <td>7</td>\n",
       "      <td>$25,$50,$100,$250,$500,$1,000,$2,500</td>\n",
       "      <td>10</td>\n",
       "      <td>2</td>\n",
       "      <td>30.00</td>\n",
       "    </tr>\n",
       "    <tr>\n",
       "      <th>1</th>\n",
       "      <td>126581</td>\n",
       "      <td>Educational Online Trading Card Game</td>\n",
       "      <td>http://www.kickstarter.com/projects/972789543/...</td>\n",
       "      <td>Games</td>\n",
       "      <td>Board &amp; Card Games</td>\n",
       "      <td>Maplewood, NJ</td>\n",
       "      <td>failed</td>\n",
       "      <td>4000.0</td>\n",
       "      <td>20.0</td>\n",
       "      <td>0.005000</td>\n",
       "      <td>2</td>\n",
       "      <td>Mon, 02 Aug 2010 03:59:00 -0000</td>\n",
       "      <td>5</td>\n",
       "      <td>$1,$5,$10,$25,$50</td>\n",
       "      <td>6</td>\n",
       "      <td>0</td>\n",
       "      <td>47.18</td>\n",
       "    </tr>\n",
       "    <tr>\n",
       "      <th>2</th>\n",
       "      <td>138119</td>\n",
       "      <td>STRUM</td>\n",
       "      <td>http://www.kickstarter.com/projects/185476022/...</td>\n",
       "      <td>Film &amp; Video</td>\n",
       "      <td>Animation</td>\n",
       "      <td>Los Angeles, CA</td>\n",
       "      <td>live</td>\n",
       "      <td>20000.0</td>\n",
       "      <td>56.0</td>\n",
       "      <td>0.002800</td>\n",
       "      <td>3</td>\n",
       "      <td>Fri, 08 Jun 2012 00:00:31 -0000</td>\n",
       "      <td>10</td>\n",
       "      <td>$1,$10,$25,$40,$50,$100,$250,$1,000,$1,337,$9,001</td>\n",
       "      <td>1</td>\n",
       "      <td>0</td>\n",
       "      <td>28.00</td>\n",
       "    </tr>\n",
       "    <tr>\n",
       "      <th>3</th>\n",
       "      <td>237090</td>\n",
       "      <td>GETTING OVER - One son's search to finally kno...</td>\n",
       "      <td>http://www.kickstarter.com/projects/charnick/g...</td>\n",
       "      <td>Film &amp; Video</td>\n",
       "      <td>Documentary</td>\n",
       "      <td>Los Angeles, CA</td>\n",
       "      <td>successful</td>\n",
       "      <td>6000.0</td>\n",
       "      <td>6535.0</td>\n",
       "      <td>1.089167</td>\n",
       "      <td>100</td>\n",
       "      <td>Sun, 08 Apr 2012 02:14:00 -0000</td>\n",
       "      <td>13</td>\n",
       "      <td>$1,$10,$25,$30,$50,$75,$85,$100,$110,$250,$500...</td>\n",
       "      <td>4</td>\n",
       "      <td>0</td>\n",
       "      <td>32.22</td>\n",
       "    </tr>\n",
       "    <tr>\n",
       "      <th>4</th>\n",
       "      <td>246101</td>\n",
       "      <td>The Launch of FlyeGrlRoyalty &amp;quot;The New Nam...</td>\n",
       "      <td>http://www.kickstarter.com/projects/flyegrlroy...</td>\n",
       "      <td>Fashion</td>\n",
       "      <td>Fashion</td>\n",
       "      <td>Novi, MI</td>\n",
       "      <td>failed</td>\n",
       "      <td>3500.0</td>\n",
       "      <td>0.0</td>\n",
       "      <td>0.000000</td>\n",
       "      <td>0</td>\n",
       "      <td>Wed, 01 Jun 2011 15:25:39 -0000</td>\n",
       "      <td>6</td>\n",
       "      <td>$10,$25,$50,$100,$150,$250</td>\n",
       "      <td>2</td>\n",
       "      <td>0</td>\n",
       "      <td>30.00</td>\n",
       "    </tr>\n",
       "  </tbody>\n",
       "</table>\n",
       "</div>"
      ],
      "text/plain": [
       "   project id                                               name  \\\n",
       "0       39409                              WHILE THE TREES SLEEP   \n",
       "1      126581               Educational Online Trading Card Game   \n",
       "2      138119                                              STRUM   \n",
       "3      237090  GETTING OVER - One son's search to finally kno...   \n",
       "4      246101  The Launch of FlyeGrlRoyalty &quot;The New Nam...   \n",
       "\n",
       "                                                 url      category  \\\n",
       "0  http://www.kickstarter.com/projects/emiliesaba...  Film & Video   \n",
       "1  http://www.kickstarter.com/projects/972789543/...         Games   \n",
       "2  http://www.kickstarter.com/projects/185476022/...  Film & Video   \n",
       "3  http://www.kickstarter.com/projects/charnick/g...  Film & Video   \n",
       "4  http://www.kickstarter.com/projects/flyegrlroy...       Fashion   \n",
       "\n",
       "          subcategory         location      status     goal  pledged  \\\n",
       "0          Short Film     Columbia, MO  successful  10500.0  11545.0   \n",
       "1  Board & Card Games    Maplewood, NJ      failed   4000.0     20.0   \n",
       "2           Animation  Los Angeles, CA        live  20000.0     56.0   \n",
       "3         Documentary  Los Angeles, CA  successful   6000.0   6535.0   \n",
       "4             Fashion         Novi, MI      failed   3500.0      0.0   \n",
       "\n",
       "   funded percentage  backers                      funded date  levels  \\\n",
       "0           1.099524       66  Fri, 19 Aug 2011 19:28:17 -0000       7   \n",
       "1           0.005000        2  Mon, 02 Aug 2010 03:59:00 -0000       5   \n",
       "2           0.002800        3  Fri, 08 Jun 2012 00:00:31 -0000      10   \n",
       "3           1.089167      100  Sun, 08 Apr 2012 02:14:00 -0000      13   \n",
       "4           0.000000        0  Wed, 01 Jun 2011 15:25:39 -0000       6   \n",
       "\n",
       "                                       reward levels  updates  comments  \\\n",
       "0               $25,$50,$100,$250,$500,$1,000,$2,500       10         2   \n",
       "1                                  $1,$5,$10,$25,$50        6         0   \n",
       "2  $1,$10,$25,$40,$50,$100,$250,$1,000,$1,337,$9,001        1         0   \n",
       "3  $1,$10,$25,$30,$50,$75,$85,$100,$110,$250,$500...        4         0   \n",
       "4                         $10,$25,$50,$100,$150,$250        2         0   \n",
       "\n",
       "   duration  \n",
       "0     30.00  \n",
       "1     47.18  \n",
       "2     28.00  \n",
       "3     32.22  \n",
       "4     30.00  "
      ]
     },
     "execution_count": 1,
     "metadata": {},
     "output_type": "execute_result"
    }
   ],
   "source": [
    "import pandas as pd\n",
    "\n",
    "df = pd.read_csv(\"./DSI_kickstarterscrape_dataset.csv\", encoding='cp437') #load data\n",
    "df.head() #show some of them"
   ]
  },
  {
   "cell_type": "code",
   "execution_count": 2,
   "id": "dc371add",
   "metadata": {},
   "outputs": [
    {
     "data": {
      "text/html": [
       "<div>\n",
       "<style scoped>\n",
       "    .dataframe tbody tr th:only-of-type {\n",
       "        vertical-align: middle;\n",
       "    }\n",
       "\n",
       "    .dataframe tbody tr th {\n",
       "        vertical-align: top;\n",
       "    }\n",
       "\n",
       "    .dataframe thead th {\n",
       "        text-align: right;\n",
       "    }\n",
       "</style>\n",
       "<table border=\"1\" class=\"dataframe\">\n",
       "  <thead>\n",
       "    <tr style=\"text-align: right;\">\n",
       "      <th></th>\n",
       "      <th>project id</th>\n",
       "      <th>goal</th>\n",
       "      <th>pledged</th>\n",
       "      <th>funded percentage</th>\n",
       "      <th>backers</th>\n",
       "      <th>levels</th>\n",
       "      <th>updates</th>\n",
       "      <th>comments</th>\n",
       "      <th>duration</th>\n",
       "    </tr>\n",
       "  </thead>\n",
       "  <tbody>\n",
       "    <tr>\n",
       "      <th>count</th>\n",
       "      <td>4.595700e+04</td>\n",
       "      <td>4.595700e+04</td>\n",
       "      <td>4.594500e+04</td>\n",
       "      <td>45957.000000</td>\n",
       "      <td>45957.000000</td>\n",
       "      <td>45957.000000</td>\n",
       "      <td>45957.00000</td>\n",
       "      <td>45957.000000</td>\n",
       "      <td>45957.000000</td>\n",
       "    </tr>\n",
       "    <tr>\n",
       "      <th>mean</th>\n",
       "      <td>1.080800e+09</td>\n",
       "      <td>1.194271e+04</td>\n",
       "      <td>4.980750e+03</td>\n",
       "      <td>1.850129</td>\n",
       "      <td>69.973192</td>\n",
       "      <td>8.004939</td>\n",
       "      <td>4.08508</td>\n",
       "      <td>8.379529</td>\n",
       "      <td>39.995547</td>\n",
       "    </tr>\n",
       "    <tr>\n",
       "      <th>std</th>\n",
       "      <td>6.218057e+08</td>\n",
       "      <td>1.887583e+05</td>\n",
       "      <td>5.674162e+04</td>\n",
       "      <td>88.492706</td>\n",
       "      <td>688.628479</td>\n",
       "      <td>4.233907</td>\n",
       "      <td>6.43922</td>\n",
       "      <td>174.015737</td>\n",
       "      <td>17.414458</td>\n",
       "    </tr>\n",
       "    <tr>\n",
       "      <th>min</th>\n",
       "      <td>3.940900e+04</td>\n",
       "      <td>1.000000e-02</td>\n",
       "      <td>0.000000e+00</td>\n",
       "      <td>0.000000</td>\n",
       "      <td>0.000000</td>\n",
       "      <td>0.000000</td>\n",
       "      <td>0.00000</td>\n",
       "      <td>0.000000</td>\n",
       "      <td>1.000000</td>\n",
       "    </tr>\n",
       "    <tr>\n",
       "      <th>25%</th>\n",
       "      <td>5.438962e+08</td>\n",
       "      <td>1.800000e+03</td>\n",
       "      <td>1.960000e+02</td>\n",
       "      <td>0.044000</td>\n",
       "      <td>5.000000</td>\n",
       "      <td>5.000000</td>\n",
       "      <td>0.00000</td>\n",
       "      <td>0.000000</td>\n",
       "      <td>30.000000</td>\n",
       "    </tr>\n",
       "    <tr>\n",
       "      <th>50%</th>\n",
       "      <td>1.078345e+09</td>\n",
       "      <td>4.000000e+03</td>\n",
       "      <td>1.310000e+03</td>\n",
       "      <td>1.000000</td>\n",
       "      <td>23.000000</td>\n",
       "      <td>7.000000</td>\n",
       "      <td>2.00000</td>\n",
       "      <td>0.000000</td>\n",
       "      <td>32.000000</td>\n",
       "    </tr>\n",
       "    <tr>\n",
       "      <th>75%</th>\n",
       "      <td>1.621596e+09</td>\n",
       "      <td>9.862000e+03</td>\n",
       "      <td>4.165000e+03</td>\n",
       "      <td>1.115640</td>\n",
       "      <td>59.000000</td>\n",
       "      <td>10.000000</td>\n",
       "      <td>6.00000</td>\n",
       "      <td>3.000000</td>\n",
       "      <td>48.390000</td>\n",
       "    </tr>\n",
       "    <tr>\n",
       "      <th>max</th>\n",
       "      <td>2.147460e+09</td>\n",
       "      <td>2.147484e+07</td>\n",
       "      <td>1.026684e+07</td>\n",
       "      <td>15066.000000</td>\n",
       "      <td>87142.000000</td>\n",
       "      <td>80.000000</td>\n",
       "      <td>149.00000</td>\n",
       "      <td>19311.000000</td>\n",
       "      <td>91.960000</td>\n",
       "    </tr>\n",
       "  </tbody>\n",
       "</table>\n",
       "</div>"
      ],
      "text/plain": [
       "         project id          goal       pledged  funded percentage  \\\n",
       "count  4.595700e+04  4.595700e+04  4.594500e+04       45957.000000   \n",
       "mean   1.080800e+09  1.194271e+04  4.980750e+03           1.850129   \n",
       "std    6.218057e+08  1.887583e+05  5.674162e+04          88.492706   \n",
       "min    3.940900e+04  1.000000e-02  0.000000e+00           0.000000   \n",
       "25%    5.438962e+08  1.800000e+03  1.960000e+02           0.044000   \n",
       "50%    1.078345e+09  4.000000e+03  1.310000e+03           1.000000   \n",
       "75%    1.621596e+09  9.862000e+03  4.165000e+03           1.115640   \n",
       "max    2.147460e+09  2.147484e+07  1.026684e+07       15066.000000   \n",
       "\n",
       "            backers        levels      updates      comments      duration  \n",
       "count  45957.000000  45957.000000  45957.00000  45957.000000  45957.000000  \n",
       "mean      69.973192      8.004939      4.08508      8.379529     39.995547  \n",
       "std      688.628479      4.233907      6.43922    174.015737     17.414458  \n",
       "min        0.000000      0.000000      0.00000      0.000000      1.000000  \n",
       "25%        5.000000      5.000000      0.00000      0.000000     30.000000  \n",
       "50%       23.000000      7.000000      2.00000      0.000000     32.000000  \n",
       "75%       59.000000     10.000000      6.00000      3.000000     48.390000  \n",
       "max    87142.000000     80.000000    149.00000  19311.000000     91.960000  "
      ]
     },
     "execution_count": 2,
     "metadata": {},
     "output_type": "execute_result"
    }
   ],
   "source": [
    "df.describe() #just to show some details about the data"
   ]
  },
  {
   "cell_type": "code",
   "execution_count": 3,
   "id": "58f21cf0",
   "metadata": {},
   "outputs": [
    {
     "data": {
      "text/plain": [
       "<bound method DataFrame.info of        project id                                               name  \\\n",
       "0           39409                              WHILE THE TREES SLEEP   \n",
       "1          126581               Educational Online Trading Card Game   \n",
       "2          138119                                              STRUM   \n",
       "3          237090  GETTING OVER - One son's search to finally kno...   \n",
       "4          246101  The Launch of FlyeGrlRoyalty &quot;The New Nam...   \n",
       "...           ...                                                ...   \n",
       "45952  2147336747                                  The Dance Project   \n",
       "45953  2147346811  new album from J-Sw!ft The Adventures of Negro...   \n",
       "45954  2147367534                                      ELIZABETH REX   \n",
       "45955  2147369705                     Dragon Keepers IV Book Project   \n",
       "45956  2147460119                                 Moments of Insight   \n",
       "\n",
       "                                                     url      category  \\\n",
       "0      http://www.kickstarter.com/projects/emiliesaba...  Film & Video   \n",
       "1      http://www.kickstarter.com/projects/972789543/...         Games   \n",
       "2      http://www.kickstarter.com/projects/185476022/...  Film & Video   \n",
       "3      http://www.kickstarter.com/projects/charnick/g...  Film & Video   \n",
       "4      http://www.kickstarter.com/projects/flyegrlroy...       Fashion   \n",
       "...                                                  ...           ...   \n",
       "45952  http://www.kickstarter.com/projects/685772205/...         Dance   \n",
       "45953  http://www.kickstarter.com/projects/170926480/...         Music   \n",
       "45954  http://www.kickstarter.com/projects/elizabethr...         Music   \n",
       "45955  http://www.kickstarter.com/projects/brucegoldw...    Publishing   \n",
       "45956  http://www.kickstarter.com/projects/1743305220...           Art   \n",
       "\n",
       "              subcategory         location      status     goal  pledged  \\\n",
       "0              Short Film     Columbia, MO  successful  10500.0  11545.0   \n",
       "1      Board & Card Games    Maplewood, NJ      failed   4000.0     20.0   \n",
       "2               Animation  Los Angeles, CA        live  20000.0     56.0   \n",
       "3             Documentary  Los Angeles, CA  successful   6000.0   6535.0   \n",
       "4                 Fashion         Novi, MI      failed   3500.0      0.0   \n",
       "...                   ...              ...         ...      ...      ...   \n",
       "45952               Dance       Austin, TX  successful    500.0    601.0   \n",
       "45953             Hip-Hop  Los Angeles, CA      failed  10000.0     75.0   \n",
       "45954                Rock  Los Angeles, CA  successful  10000.0  10000.0   \n",
       "45955             Fiction   Vero Beach, FL      failed   2999.0    257.0   \n",
       "45956      Conceptual Art      Bozeman, MT  successful  18000.0  18758.0   \n",
       "\n",
       "       funded percentage  backers                      funded date  levels  \\\n",
       "0               1.099524       66  Fri, 19 Aug 2011 19:28:17 -0000       7   \n",
       "1               0.005000        2  Mon, 02 Aug 2010 03:59:00 -0000       5   \n",
       "2               0.002800        3  Fri, 08 Jun 2012 00:00:31 -0000      10   \n",
       "3               1.089167      100  Sun, 08 Apr 2012 02:14:00 -0000      13   \n",
       "4               0.000000        0  Wed, 01 Jun 2011 15:25:39 -0000       6   \n",
       "...                  ...      ...                              ...     ...   \n",
       "45952           1.202000       13  Fri, 30 Mar 2012 13:57:00 -0000       3   \n",
       "45953           0.007500        2  Sun, 22 Apr 2012 02:12:10 -0000      14   \n",
       "45954           1.000000       58  Mon, 16 Jan 2012 05:00:00 -0000       4   \n",
       "45955           0.085695       11  Sat, 19 May 2012 19:44:47 -0000       7   \n",
       "45956           1.042111       53  Thu, 04 Aug 2011 04:30:00 -0000      10   \n",
       "\n",
       "                                           reward levels  updates  comments  \\\n",
       "0                   $25,$50,$100,$250,$500,$1,000,$2,500       10         2   \n",
       "1                                      $1,$5,$10,$25,$50        6         0   \n",
       "2      $1,$10,$25,$40,$50,$100,$250,$1,000,$1,337,$9,001        1         0   \n",
       "3      $1,$10,$25,$30,$50,$75,$85,$100,$110,$250,$500...        4         0   \n",
       "4                             $10,$25,$50,$100,$150,$250        2         0   \n",
       "...                                                  ...      ...       ...   \n",
       "45952                                       $20,$50,$100        2         0   \n",
       "45953  $1,$5,$10,$25,$50,$50,$75,$100,$200,$250,$500,...        1         1   \n",
       "45954                                  $10,$25,$100,$500        2         0   \n",
       "45955                        $15,$16,$19,$29,$29,$39,$75       17         0   \n",
       "45956  $25,$25,$50,$100,$125,$250,$500,$1,250,$2,500,...       20         4   \n",
       "\n",
       "       duration  \n",
       "0         30.00  \n",
       "1         47.18  \n",
       "2         28.00  \n",
       "3         32.22  \n",
       "4         30.00  \n",
       "...         ...  \n",
       "45952     37.83  \n",
       "45953     59.96  \n",
       "45954     27.32  \n",
       "45955     30.00  \n",
       "45956     40.38  \n",
       "\n",
       "[45957 rows x 17 columns]>"
      ]
     },
     "execution_count": 3,
     "metadata": {},
     "output_type": "execute_result"
    }
   ],
   "source": [
    "df.info #more details"
   ]
  },
  {
   "cell_type": "code",
   "execution_count": 35,
   "id": "41bdbd7a",
   "metadata": {},
   "outputs": [
    {
     "data": {
      "image/png": "[encoded data removed]",
      "text/plain": [
       "<Figure size 432x288 with 1 Axes>"
      ]
     },
     "metadata": {
      "needs_background": "light"
     },
     "output_type": "display_data"
    },
    {
     "name": "stdout",
     "output_type": "stream",
     "text": [
      "87.47397431084505\n"
     ]
    }
   ],
   "source": [
    "#histogram for number of backers\n",
    "# These are the standard imports that we will use all the time.\n",
    "import os                             # Library to do things on the filesystem\n",
    "import matplotlib.pyplot as plt       # Standard plotting library\n",
    "import numpy as np                    # General purpose math library\n",
    "from IPython.display import display   # A notebook function to display more complex data (like tables)\n",
    "import scipy.stats as stats           # Scipy again\n",
    "df['backers'].plot.hist(alpha=0.5, bins=15, grid=True, legend=None)  # Pandas helper function to plot a hist. Uses matplotlib under the hood.\n",
    "plt.xlabel(\"Number of Backers\")\n",
    "plt.title(\"Backers\")\n",
    "plt.show()\n",
    "skewValue = df['backers'].skew() #calculate skew value\n",
    "print(skewValue)"
   ]
  },
  {
   "cell_type": "markdown",
   "id": "c30fc550",
   "metadata": {},
   "source": [
    "Doesn't look great, there are some outliers with extreme values. 75% of the projects have 59 or less backers."
   ]
  },
  {
   "cell_type": "code",
   "execution_count": 37,
   "id": "809ae0b7",
   "metadata": {},
   "outputs": [
    {
     "data": {
      "text/plain": [
       "<AxesSubplot:ylabel='Frequency'>"
      ]
     },
     "execution_count": 37,
     "metadata": {},
     "output_type": "execute_result"
    },
    {
     "data": {
      "image/png": "[encoded data removed]",
      "text/plain": [
       "<Figure size 432x288 with 1 Axes>"
      ]
     },
     "metadata": {
      "needs_background": "light"
     },
     "output_type": "display_data"
    }
   ],
   "source": [
    "filtered=df[(df[\"backers\"]<750)] #a great majority of the projects have less than 750 backers, remove those that are more than 750\n",
    "filtered['backers'].plot.hist(alpha=0.5, bins=15, grid=True, legend=None) #histogram with outliers removed"
   ]
  },
  {
   "cell_type": "code",
   "execution_count": 31,
   "id": "bee4852d",
   "metadata": {},
   "outputs": [
    {
     "data": {
      "text/plain": [
       "<AxesSubplot:>"
      ]
     },
     "execution_count": 31,
     "metadata": {},
     "output_type": "execute_result"
    },
    {
     "data": {
      "image/png": "[encoded data removed]",
      "text/plain": [
       "<Figure size 432x288 with 1 Axes>"
      ]
     },
     "metadata": {
      "needs_background": "light"
     },
     "output_type": "display_data"
    }
   ],
   "source": [
    "df['duration'].hist(bins=100) #it isn't always a good idea for high bins, however it sometimes gives clearer picture"
   ]
  },
  {
   "cell_type": "code",
   "execution_count": 32,
   "id": "5e5a0971",
   "metadata": {},
   "outputs": [
    {
     "data": {
      "text/plain": [
       "<AxesSubplot:>"
      ]
     },
     "execution_count": 32,
     "metadata": {},
     "output_type": "execute_result"
    },
    {
     "data": {
      "image/png": "[encoded data removed]",
      "text/plain": [
       "<Figure size 432x288 with 1 Axes>"
      ]
     },
     "metadata": {
      "needs_background": "light"
     },
     "output_type": "display_data"
    }
   ],
   "source": [
    "df['duration'].hist(bins=20) #it's still roughly the same shape. This just shows that the data don't follow gaussian curve"
   ]
  },
  {
   "cell_type": "code",
   "execution_count": 38,
   "id": "0973cab4",
   "metadata": {},
   "outputs": [
    {
     "data": {
      "text/plain": [
       "<AxesSubplot:ylabel='status'>"
      ]
     },
     "execution_count": 38,
     "metadata": {},
     "output_type": "execute_result"
    },
    {
     "data": {
      "image/png": "[encoded data removed]",
      "text/plain": [
       "<Figure size 792x792 with 1 Axes>"
      ]
     },
     "metadata": {},
     "output_type": "display_data"
    }
   ],
   "source": [
    "#let's draw a pie chart about success rate\n",
    "df.status.value_counts().plot.pie(figsize=(11, 11), autopct='%1.1f%%')"
   ]
  },
  {
   "cell_type": "code",
   "execution_count": 164,
   "id": "c0758d0d",
   "metadata": {},
   "outputs": [],
   "source": [
    "def return_week_bins(val):\n",
    "    return math.ceil(val)"
   ]
  },
  {
   "cell_type": "code",
   "execution_count": 114,
   "id": "2024137a",
   "metadata": {},
   "outputs": [],
   "source": [
    "def return_days_bins(val):\n",
    "    return math.ceil(val)"
   ]
  },
  {
   "cell_type": "code",
   "execution_count": 116,
   "id": "f9a1f75d",
   "metadata": {},
   "outputs": [],
   "source": [
    "import math\n",
    "successful_state_series = df[df['status'] == \"successful\"]['duration']\n",
    "successful_state_df = successful_state_series.map(return_days_bins).value_counts().rename_axis('duration').reset_index(name='success counts')\n",
    "total_state_df = df['duration'].map(return_days_bins).value_counts().rename_axis('duration').reset_index(name='total counts')"
   ]
  },
  {
   "cell_type": "code",
   "execution_count": 117,
   "id": "2e4f1d59",
   "metadata": {},
   "outputs": [
    {
     "data": {
      "text/html": [
       "<div>\n",
       "<style scoped>\n",
       "    .dataframe tbody tr th:only-of-type {\n",
       "        vertical-align: middle;\n",
       "    }\n",
       "\n",
       "    .dataframe tbody tr th {\n",
       "        vertical-align: top;\n",
       "    }\n",
       "\n",
       "    .dataframe thead th {\n",
       "        text-align: right;\n",
       "    }\n",
       "</style>\n",
       "<table border=\"1\" class=\"dataframe\">\n",
       "  <thead>\n",
       "    <tr style=\"text-align: right;\">\n",
       "      <th></th>\n",
       "      <th>duration</th>\n",
       "      <th>success counts</th>\n",
       "      <th>total counts</th>\n",
       "    </tr>\n",
       "  </thead>\n",
       "  <tbody>\n",
       "    <tr>\n",
       "      <th>0</th>\n",
       "      <td>30</td>\n",
       "      <td>6035</td>\n",
       "      <td>12969</td>\n",
       "    </tr>\n",
       "    <tr>\n",
       "      <th>1</th>\n",
       "      <td>60</td>\n",
       "      <td>1396</td>\n",
       "      <td>4219</td>\n",
       "    </tr>\n",
       "    <tr>\n",
       "      <th>2</th>\n",
       "      <td>31</td>\n",
       "      <td>1331</td>\n",
       "      <td>2264</td>\n",
       "    </tr>\n",
       "    <tr>\n",
       "      <th>3</th>\n",
       "      <td>45</td>\n",
       "      <td>1121</td>\n",
       "      <td>2659</td>\n",
       "    </tr>\n",
       "    <tr>\n",
       "      <th>4</th>\n",
       "      <td>32</td>\n",
       "      <td>696</td>\n",
       "      <td>1152</td>\n",
       "    </tr>\n",
       "    <tr>\n",
       "      <th>...</th>\n",
       "      <td>...</td>\n",
       "      <td>...</td>\n",
       "      <td>...</td>\n",
       "    </tr>\n",
       "    <tr>\n",
       "      <th>87</th>\n",
       "      <td>84</td>\n",
       "      <td>13</td>\n",
       "      <td>44</td>\n",
       "    </tr>\n",
       "    <tr>\n",
       "      <th>88</th>\n",
       "      <td>4</td>\n",
       "      <td>8</td>\n",
       "      <td>14</td>\n",
       "    </tr>\n",
       "    <tr>\n",
       "      <th>89</th>\n",
       "      <td>3</td>\n",
       "      <td>6</td>\n",
       "      <td>13</td>\n",
       "    </tr>\n",
       "    <tr>\n",
       "      <th>90</th>\n",
       "      <td>92</td>\n",
       "      <td>4</td>\n",
       "      <td>15</td>\n",
       "    </tr>\n",
       "    <tr>\n",
       "      <th>91</th>\n",
       "      <td>1</td>\n",
       "      <td>4</td>\n",
       "      <td>5</td>\n",
       "    </tr>\n",
       "  </tbody>\n",
       "</table>\n",
       "<p>92 rows × 3 columns</p>\n",
       "</div>"
      ],
      "text/plain": [
       "    duration  success counts  total counts\n",
       "0         30            6035         12969\n",
       "1         60            1396          4219\n",
       "2         31            1331          2264\n",
       "3         45            1121          2659\n",
       "4         32             696          1152\n",
       "..       ...             ...           ...\n",
       "87        84              13            44\n",
       "88         4               8            14\n",
       "89         3               6            13\n",
       "90        92               4            15\n",
       "91         1               4             5\n",
       "\n",
       "[92 rows x 3 columns]"
      ]
     },
     "execution_count": 117,
     "metadata": {},
     "output_type": "execute_result"
    }
   ],
   "source": [
    "success_rate_duration = pd.merge(successful_state_df, total_state_df, on='duration')\n",
    "success_rate_duration"
   ]
  },
  {
   "cell_type": "code",
   "execution_count": 120,
   "id": "4f5bf124",
   "metadata": {},
   "outputs": [
    {
     "data": {
      "text/html": [
       "<div>\n",
       "<style scoped>\n",
       "    .dataframe tbody tr th:only-of-type {\n",
       "        vertical-align: middle;\n",
       "    }\n",
       "\n",
       "    .dataframe tbody tr th {\n",
       "        vertical-align: top;\n",
       "    }\n",
       "\n",
       "    .dataframe thead th {\n",
       "        text-align: right;\n",
       "    }\n",
       "</style>\n",
       "<table border=\"1\" class=\"dataframe\">\n",
       "  <thead>\n",
       "    <tr style=\"text-align: right;\">\n",
       "      <th></th>\n",
       "      <th>duration</th>\n",
       "      <th>success counts</th>\n",
       "      <th>total counts</th>\n",
       "      <th>success rate in %</th>\n",
       "    </tr>\n",
       "  </thead>\n",
       "  <tbody>\n",
       "    <tr>\n",
       "      <th>91</th>\n",
       "      <td>1</td>\n",
       "      <td>4</td>\n",
       "      <td>5</td>\n",
       "      <td>80.000000</td>\n",
       "    </tr>\n",
       "    <tr>\n",
       "      <th>86</th>\n",
       "      <td>2</td>\n",
       "      <td>13</td>\n",
       "      <td>19</td>\n",
       "      <td>68.421053</td>\n",
       "    </tr>\n",
       "    <tr>\n",
       "      <th>89</th>\n",
       "      <td>3</td>\n",
       "      <td>6</td>\n",
       "      <td>13</td>\n",
       "      <td>46.153846</td>\n",
       "    </tr>\n",
       "    <tr>\n",
       "      <th>88</th>\n",
       "      <td>4</td>\n",
       "      <td>8</td>\n",
       "      <td>14</td>\n",
       "      <td>57.142857</td>\n",
       "    </tr>\n",
       "    <tr>\n",
       "      <th>80</th>\n",
       "      <td>5</td>\n",
       "      <td>19</td>\n",
       "      <td>36</td>\n",
       "      <td>52.777778</td>\n",
       "    </tr>\n",
       "    <tr>\n",
       "      <th>...</th>\n",
       "      <td>...</td>\n",
       "      <td>...</td>\n",
       "      <td>...</td>\n",
       "      <td>...</td>\n",
       "    </tr>\n",
       "    <tr>\n",
       "      <th>75</th>\n",
       "      <td>88</td>\n",
       "      <td>22</td>\n",
       "      <td>64</td>\n",
       "      <td>34.375000</td>\n",
       "    </tr>\n",
       "    <tr>\n",
       "      <th>56</th>\n",
       "      <td>89</td>\n",
       "      <td>54</td>\n",
       "      <td>129</td>\n",
       "      <td>41.860465</td>\n",
       "    </tr>\n",
       "    <tr>\n",
       "      <th>9</th>\n",
       "      <td>90</td>\n",
       "      <td>459</td>\n",
       "      <td>1144</td>\n",
       "      <td>40.122378</td>\n",
       "    </tr>\n",
       "    <tr>\n",
       "      <th>29</th>\n",
       "      <td>91</td>\n",
       "      <td>185</td>\n",
       "      <td>539</td>\n",
       "      <td>34.322820</td>\n",
       "    </tr>\n",
       "    <tr>\n",
       "      <th>90</th>\n",
       "      <td>92</td>\n",
       "      <td>4</td>\n",
       "      <td>15</td>\n",
       "      <td>26.666667</td>\n",
       "    </tr>\n",
       "  </tbody>\n",
       "</table>\n",
       "<p>92 rows × 4 columns</p>\n",
       "</div>"
      ],
      "text/plain": [
       "    duration  success counts  total counts  success rate in %\n",
       "91         1               4             5          80.000000\n",
       "86         2              13            19          68.421053\n",
       "89         3               6            13          46.153846\n",
       "88         4               8            14          57.142857\n",
       "80         5              19            36          52.777778\n",
       "..       ...             ...           ...                ...\n",
       "75        88              22            64          34.375000\n",
       "56        89              54           129          41.860465\n",
       "9         90             459          1144          40.122378\n",
       "29        91             185           539          34.322820\n",
       "90        92               4            15          26.666667\n",
       "\n",
       "[92 rows x 4 columns]"
      ]
     },
     "execution_count": 120,
     "metadata": {},
     "output_type": "execute_result"
    }
   ],
   "source": [
    "success_rate_duration ['success rate in %'] = success_rate_duration ['success counts']/success_rate_duration ['total counts']*100\n",
    "success_rate_duration.sort_values(by=['duration'])"
   ]
  },
  {
   "cell_type": "code",
   "execution_count": 152,
   "id": "9ff4ff6f",
   "metadata": {},
   "outputs": [
    {
     "data": {
      "image/png": "[encoded data removed]",
      "text/plain": [
       "<Figure size 1440x648 with 1 Axes>"
      ]
     },
     "metadata": {},
     "output_type": "display_data"
    }
   ],
   "source": [
    "plt.rcParams[\"figure.figsize\"] = [20,9]\n",
    "plt.style.use('Solarize_Light2')\n",
    "success_rate_duration.plot(x='duration', y='success rate in %', style='o');\n",
    "plt.title('Overall Success Rate');"
   ]
  },
  {
   "cell_type": "code",
   "execution_count": 167,
   "id": "d52e757a",
   "metadata": {},
   "outputs": [
    {
     "data": {
      "image/png": "[encoded data removed]",
      "text/plain": [
       "<Figure size 1440x648 with 1 Axes>"
      ]
     },
     "metadata": {},
     "output_type": "display_data"
    }
   ],
   "source": [
    "high_target = df[df['goal'] >= 10000]\n",
    "successful_state_series_high = high_target[high_target['status'] == \"successful\"]['duration']\n",
    "successful_state_high_df = successful_state_series_high.map(return_days_bins).value_counts().rename_axis('duration').reset_index(name='success counts')\n",
    "total_state_high_df = high_target['duration'].map(return_days_bins).value_counts().rename_axis('duration').reset_index(name='total counts')\n",
    "success_rate_duration_high = pd.merge(successful_state_high_df, total_state_high_df, on='duration')\n",
    "success_rate_duration_high ['success rate in %'] = success_rate_duration_high['success counts']/success_rate_duration_high['total counts']*100\n",
    "success_rate_duration_high.sort_values(by=['duration'])\n",
    "success_rate_duration_high.plot(x='duration', y='success rate in %', style='o');\n",
    "plt.title('Success Rate of campaign with more than 10000 USD goal');"
   ]
  },
  {
   "cell_type": "code",
   "execution_count": 168,
   "id": "16f264c5",
   "metadata": {},
   "outputs": [
    {
     "data": {
      "text/html": [
       "<div>\n",
       "<style scoped>\n",
       "    .dataframe tbody tr th:only-of-type {\n",
       "        vertical-align: middle;\n",
       "    }\n",
       "\n",
       "    .dataframe tbody tr th {\n",
       "        vertical-align: top;\n",
       "    }\n",
       "\n",
       "    .dataframe thead th {\n",
       "        text-align: right;\n",
       "    }\n",
       "</style>\n",
       "<table border=\"1\" class=\"dataframe\">\n",
       "  <thead>\n",
       "    <tr style=\"text-align: right;\">\n",
       "      <th></th>\n",
       "      <th>duration</th>\n",
       "      <th>success counts</th>\n",
       "      <th>total counts</th>\n",
       "      <th>success rate in %</th>\n",
       "    </tr>\n",
       "  </thead>\n",
       "  <tbody>\n",
       "    <tr>\n",
       "      <th>82</th>\n",
       "      <td>2</td>\n",
       "      <td>1</td>\n",
       "      <td>1</td>\n",
       "      <td>100.000000</td>\n",
       "    </tr>\n",
       "    <tr>\n",
       "      <th>63</th>\n",
       "      <td>7</td>\n",
       "      <td>4</td>\n",
       "      <td>5</td>\n",
       "      <td>80.000000</td>\n",
       "    </tr>\n",
       "    <tr>\n",
       "      <th>71</th>\n",
       "      <td>8</td>\n",
       "      <td>3</td>\n",
       "      <td>7</td>\n",
       "      <td>42.857143</td>\n",
       "    </tr>\n",
       "    <tr>\n",
       "      <th>81</th>\n",
       "      <td>9</td>\n",
       "      <td>2</td>\n",
       "      <td>4</td>\n",
       "      <td>50.000000</td>\n",
       "    </tr>\n",
       "    <tr>\n",
       "      <th>75</th>\n",
       "      <td>10</td>\n",
       "      <td>3</td>\n",
       "      <td>9</td>\n",
       "      <td>33.333333</td>\n",
       "    </tr>\n",
       "    <tr>\n",
       "      <th>...</th>\n",
       "      <td>...</td>\n",
       "      <td>...</td>\n",
       "      <td>...</td>\n",
       "      <td>...</td>\n",
       "    </tr>\n",
       "    <tr>\n",
       "      <th>65</th>\n",
       "      <td>87</td>\n",
       "      <td>4</td>\n",
       "      <td>10</td>\n",
       "      <td>40.000000</td>\n",
       "    </tr>\n",
       "    <tr>\n",
       "      <th>69</th>\n",
       "      <td>88</td>\n",
       "      <td>3</td>\n",
       "      <td>12</td>\n",
       "      <td>25.000000</td>\n",
       "    </tr>\n",
       "    <tr>\n",
       "      <th>49</th>\n",
       "      <td>89</td>\n",
       "      <td>10</td>\n",
       "      <td>33</td>\n",
       "      <td>30.303030</td>\n",
       "    </tr>\n",
       "    <tr>\n",
       "      <th>8</th>\n",
       "      <td>90</td>\n",
       "      <td>103</td>\n",
       "      <td>359</td>\n",
       "      <td>28.690808</td>\n",
       "    </tr>\n",
       "    <tr>\n",
       "      <th>17</th>\n",
       "      <td>91</td>\n",
       "      <td>42</td>\n",
       "      <td>194</td>\n",
       "      <td>21.649485</td>\n",
       "    </tr>\n",
       "  </tbody>\n",
       "</table>\n",
       "<p>84 rows × 4 columns</p>\n",
       "</div>"
      ],
      "text/plain": [
       "    duration  success counts  total counts  success rate in %\n",
       "82         2               1             1         100.000000\n",
       "63         7               4             5          80.000000\n",
       "71         8               3             7          42.857143\n",
       "81         9               2             4          50.000000\n",
       "75        10               3             9          33.333333\n",
       "..       ...             ...           ...                ...\n",
       "65        87               4            10          40.000000\n",
       "69        88               3            12          25.000000\n",
       "49        89              10            33          30.303030\n",
       "8         90             103           359          28.690808\n",
       "17        91              42           194          21.649485\n",
       "\n",
       "[84 rows x 4 columns]"
      ]
     },
     "execution_count": 168,
     "metadata": {},
     "output_type": "execute_result"
    }
   ],
   "source": [
    "success_rate_duration_high.sort_values(by=['duration'])"
   ]
  },
  {
   "cell_type": "code",
   "execution_count": 169,
   "id": "5f95e47d",
   "metadata": {},
   "outputs": [
    {
     "data": {
      "text/html": [
       "<div>\n",
       "<style scoped>\n",
       "    .dataframe tbody tr th:only-of-type {\n",
       "        vertical-align: middle;\n",
       "    }\n",
       "\n",
       "    .dataframe tbody tr th {\n",
       "        vertical-align: top;\n",
       "    }\n",
       "\n",
       "    .dataframe thead th {\n",
       "        text-align: right;\n",
       "    }\n",
       "</style>\n",
       "<table border=\"1\" class=\"dataframe\">\n",
       "  <thead>\n",
       "    <tr style=\"text-align: right;\">\n",
       "      <th></th>\n",
       "      <th>project id</th>\n",
       "      <th>name</th>\n",
       "      <th>url</th>\n",
       "      <th>category</th>\n",
       "      <th>subcategory</th>\n",
       "      <th>location</th>\n",
       "      <th>status</th>\n",
       "      <th>goal</th>\n",
       "      <th>pledged</th>\n",
       "      <th>funded percentage</th>\n",
       "      <th>backers</th>\n",
       "      <th>funded date</th>\n",
       "      <th>levels</th>\n",
       "      <th>reward levels</th>\n",
       "      <th>updates</th>\n",
       "      <th>comments</th>\n",
       "      <th>duration</th>\n",
       "    </tr>\n",
       "  </thead>\n",
       "  <tbody>\n",
       "    <tr>\n",
       "      <th>16028</th>\n",
       "      <td>756751971</td>\n",
       "      <td>The Chris Knox Benefit Concert</td>\n",
       "      <td>http://www.kickstarter.com/projects/badabing/t...</td>\n",
       "      <td>Music</td>\n",
       "      <td>Music</td>\n",
       "      <td>New York, NY</td>\n",
       "      <td>successful</td>\n",
       "      <td>37500.0</td>\n",
       "      <td>40555.0</td>\n",
       "      <td>1.081467</td>\n",
       "      <td>403</td>\n",
       "      <td>Thu, 01 Apr 2010 16:00:00 -0000</td>\n",
       "      <td>2</td>\n",
       "      <td>$75,$150</td>\n",
       "      <td>7</td>\n",
       "      <td>62</td>\n",
       "      <td>2.00</td>\n",
       "    </tr>\n",
       "    <tr>\n",
       "      <th>35901</th>\n",
       "      <td>1688740826</td>\n",
       "      <td>Page Cancelled Due to Ending Time Error</td>\n",
       "      <td>http://www.kickstarter.com/projects/750438295/...</td>\n",
       "      <td>Film &amp;amp; Video</td>\n",
       "      <td>Documentary</td>\n",
       "      <td>Los Angeles, CA</td>\n",
       "      <td>failed</td>\n",
       "      <td>30000.0</td>\n",
       "      <td>0.0</td>\n",
       "      <td>0.000000</td>\n",
       "      <td>0</td>\n",
       "      <td>Sun, 12 Feb 2012 02:00:00 -0000</td>\n",
       "      <td>9</td>\n",
       "      <td>$1,$20,$50,$100,$250,$500,$1,000,$5,000,$10,000</td>\n",
       "      <td>0</td>\n",
       "      <td>1</td>\n",
       "      <td>2.40</td>\n",
       "    </tr>\n",
       "    <tr>\n",
       "      <th>18155</th>\n",
       "      <td>856864534</td>\n",
       "      <td>Everlasting Love...A Family Emerges Through th...</td>\n",
       "      <td>http://www.kickstarter.com/projects/30584253/e...</td>\n",
       "      <td>Publishing</td>\n",
       "      <td>Nonfiction</td>\n",
       "      <td>El Paso, TX</td>\n",
       "      <td>failed</td>\n",
       "      <td>15000.0</td>\n",
       "      <td>0.0</td>\n",
       "      <td>0.000000</td>\n",
       "      <td>0</td>\n",
       "      <td>Wed, 08 Feb 2012 03:00:00 -0000</td>\n",
       "      <td>2</td>\n",
       "      <td>$20,$30</td>\n",
       "      <td>0</td>\n",
       "      <td>0</td>\n",
       "      <td>4.36</td>\n",
       "    </tr>\n",
       "    <tr>\n",
       "      <th>16232</th>\n",
       "      <td>766563382</td>\n",
       "      <td>Music Video for &amp;quot;Maybe I Was Wrong&amp;quot;</td>\n",
       "      <td>http://www.kickstarter.com/projects/374312986/...</td>\n",
       "      <td>Film &amp;amp; Video</td>\n",
       "      <td>Film &amp;amp; Video</td>\n",
       "      <td>San Diego, CA</td>\n",
       "      <td>failed</td>\n",
       "      <td>10000.0</td>\n",
       "      <td>0.0</td>\n",
       "      <td>0.000000</td>\n",
       "      <td>0</td>\n",
       "      <td>Sat, 01 Jan 2011 23:00:00 -0000</td>\n",
       "      <td>8</td>\n",
       "      <td>$15,$100,$150,$250,$350,$500,$1,000,$2,000</td>\n",
       "      <td>0</td>\n",
       "      <td>0</td>\n",
       "      <td>4.98</td>\n",
       "    </tr>\n",
       "    <tr>\n",
       "      <th>12645</th>\n",
       "      <td>600230712</td>\n",
       "      <td>Cafe Donaris - A Military-Retired Family's Dream</td>\n",
       "      <td>http://www.kickstarter.com/projects/donaris/ca...</td>\n",
       "      <td>Food</td>\n",
       "      <td>Food</td>\n",
       "      <td>Sanford, FL</td>\n",
       "      <td>failed</td>\n",
       "      <td>40000.0</td>\n",
       "      <td>0.0</td>\n",
       "      <td>0.000000</td>\n",
       "      <td>0</td>\n",
       "      <td>Tue, 01 Nov 2011 16:14:16 -0000</td>\n",
       "      <td>6</td>\n",
       "      <td>$1,$50,$100,$250,$500,$1,000</td>\n",
       "      <td>0</td>\n",
       "      <td>0</td>\n",
       "      <td>5.00</td>\n",
       "    </tr>\n",
       "    <tr>\n",
       "      <th>...</th>\n",
       "      <td>...</td>\n",
       "      <td>...</td>\n",
       "      <td>...</td>\n",
       "      <td>...</td>\n",
       "      <td>...</td>\n",
       "      <td>...</td>\n",
       "      <td>...</td>\n",
       "      <td>...</td>\n",
       "      <td>...</td>\n",
       "      <td>...</td>\n",
       "      <td>...</td>\n",
       "      <td>...</td>\n",
       "      <td>...</td>\n",
       "      <td>...</td>\n",
       "      <td>...</td>\n",
       "      <td>...</td>\n",
       "      <td>...</td>\n",
       "    </tr>\n",
       "    <tr>\n",
       "      <th>28629</th>\n",
       "      <td>1345326140</td>\n",
       "      <td>Men Who Dance With Men, Photographic Documentary</td>\n",
       "      <td>http://www.kickstarter.com/projects/1221125203...</td>\n",
       "      <td>Photography</td>\n",
       "      <td>Photography</td>\n",
       "      <td>New York, NY</td>\n",
       "      <td>failed</td>\n",
       "      <td>12000.0</td>\n",
       "      <td>3805.0</td>\n",
       "      <td>0.317083</td>\n",
       "      <td>66</td>\n",
       "      <td>Sun, 03 Apr 2011 01:40:00 -0000</td>\n",
       "      <td>3</td>\n",
       "      <td>$10,$20,$900</td>\n",
       "      <td>10</td>\n",
       "      <td>3</td>\n",
       "      <td>91.48</td>\n",
       "    </tr>\n",
       "    <tr>\n",
       "      <th>29329</th>\n",
       "      <td>1378129953</td>\n",
       "      <td>SmoothnFusion Jazz Comedy Album</td>\n",
       "      <td>http://www.kickstarter.com/projects/425875083/...</td>\n",
       "      <td>Music</td>\n",
       "      <td>Jazz</td>\n",
       "      <td>New York, NY</td>\n",
       "      <td>failed</td>\n",
       "      <td>12500.0</td>\n",
       "      <td>146.0</td>\n",
       "      <td>0.011680</td>\n",
       "      <td>3</td>\n",
       "      <td>Thu, 31 Mar 2011 22:53:47 -0000</td>\n",
       "      <td>7</td>\n",
       "      <td>$10,$25,$50,$100,$500,$1,000,$5,000</td>\n",
       "      <td>0</td>\n",
       "      <td>0</td>\n",
       "      <td>91.96</td>\n",
       "    </tr>\n",
       "    <tr>\n",
       "      <th>6007</th>\n",
       "      <td>282190697</td>\n",
       "      <td>'Do What You Love'   Live your Dreams - a P. J...</td>\n",
       "      <td>http://www.kickstarter.com/projects/pjgalati/d...</td>\n",
       "      <td>Film &amp;amp; Video</td>\n",
       "      <td>Documentary</td>\n",
       "      <td>New York, NY</td>\n",
       "      <td>failed</td>\n",
       "      <td>12977.0</td>\n",
       "      <td>0.0</td>\n",
       "      <td>0.000000</td>\n",
       "      <td>0</td>\n",
       "      <td>Mon, 04 Apr 2011 05:16:22 -0000</td>\n",
       "      <td>13</td>\n",
       "      <td>$1,$5,$10,$15,$20,$25,$35,$45,$55,$100,$500,$1...</td>\n",
       "      <td>0</td>\n",
       "      <td>0</td>\n",
       "      <td>91.96</td>\n",
       "    </tr>\n",
       "    <tr>\n",
       "      <th>13118</th>\n",
       "      <td>623776234</td>\n",
       "      <td>once upon a mountain</td>\n",
       "      <td>http://www.kickstarter.com/projects/251318632/...</td>\n",
       "      <td>Film &amp;amp; Video</td>\n",
       "      <td>Documentary</td>\n",
       "      <td>Stanley, ID</td>\n",
       "      <td>failed</td>\n",
       "      <td>20000.0</td>\n",
       "      <td>1530.0</td>\n",
       "      <td>0.076500</td>\n",
       "      <td>4</td>\n",
       "      <td>Mon, 04 Apr 2011 00:35:59 -0000</td>\n",
       "      <td>9</td>\n",
       "      <td>$5,$10,$20,$50,$100,$500,$1,000,$5,000,$10,000</td>\n",
       "      <td>0</td>\n",
       "      <td>0</td>\n",
       "      <td>91.96</td>\n",
       "    </tr>\n",
       "    <tr>\n",
       "      <th>35833</th>\n",
       "      <td>1685846406</td>\n",
       "      <td>Send Up For Nothing across the country!!</td>\n",
       "      <td>http://www.kickstarter.com/projects/1094585571...</td>\n",
       "      <td>Music</td>\n",
       "      <td>Pop</td>\n",
       "      <td>Brooklyn, NY</td>\n",
       "      <td>failed</td>\n",
       "      <td>10000.0</td>\n",
       "      <td>2055.0</td>\n",
       "      <td>0.205500</td>\n",
       "      <td>31</td>\n",
       "      <td>Fri, 01 Apr 2011 03:00:03 -0000</td>\n",
       "      <td>6</td>\n",
       "      <td>$1,$15,$50,$150,$300,$1,000</td>\n",
       "      <td>0</td>\n",
       "      <td>1</td>\n",
       "      <td>91.96</td>\n",
       "    </tr>\n",
       "  </tbody>\n",
       "</table>\n",
       "<p>11454 rows × 17 columns</p>\n",
       "</div>"
      ],
      "text/plain": [
       "       project id                                               name  \\\n",
       "16028   756751971                     The Chris Knox Benefit Concert   \n",
       "35901  1688740826            Page Cancelled Due to Ending Time Error   \n",
       "18155   856864534  Everlasting Love...A Family Emerges Through th...   \n",
       "16232   766563382      Music Video for &quot;Maybe I Was Wrong&quot;   \n",
       "12645   600230712   Cafe Donaris - A Military-Retired Family's Dream   \n",
       "...           ...                                                ...   \n",
       "28629  1345326140   Men Who Dance With Men, Photographic Documentary   \n",
       "29329  1378129953                    SmoothnFusion Jazz Comedy Album   \n",
       "6007    282190697  'Do What You Love'   Live your Dreams - a P. J...   \n",
       "13118   623776234                               once upon a mountain   \n",
       "35833  1685846406           Send Up For Nothing across the country!!   \n",
       "\n",
       "                                                     url          category  \\\n",
       "16028  http://www.kickstarter.com/projects/badabing/t...             Music   \n",
       "35901  http://www.kickstarter.com/projects/750438295/...  Film &amp; Video   \n",
       "18155  http://www.kickstarter.com/projects/30584253/e...        Publishing   \n",
       "16232  http://www.kickstarter.com/projects/374312986/...  Film &amp; Video   \n",
       "12645  http://www.kickstarter.com/projects/donaris/ca...              Food   \n",
       "...                                                  ...               ...   \n",
       "28629  http://www.kickstarter.com/projects/1221125203...       Photography   \n",
       "29329  http://www.kickstarter.com/projects/425875083/...             Music   \n",
       "6007   http://www.kickstarter.com/projects/pjgalati/d...  Film &amp; Video   \n",
       "13118  http://www.kickstarter.com/projects/251318632/...  Film &amp; Video   \n",
       "35833  http://www.kickstarter.com/projects/1094585571...             Music   \n",
       "\n",
       "            subcategory         location      status     goal  pledged  \\\n",
       "16028             Music     New York, NY  successful  37500.0  40555.0   \n",
       "35901       Documentary  Los Angeles, CA      failed  30000.0      0.0   \n",
       "18155        Nonfiction      El Paso, TX      failed  15000.0      0.0   \n",
       "16232  Film &amp; Video    San Diego, CA      failed  10000.0      0.0   \n",
       "12645              Food      Sanford, FL      failed  40000.0      0.0   \n",
       "...                 ...              ...         ...      ...      ...   \n",
       "28629       Photography     New York, NY      failed  12000.0   3805.0   \n",
       "29329              Jazz     New York, NY      failed  12500.0    146.0   \n",
       "6007        Documentary     New York, NY      failed  12977.0      0.0   \n",
       "13118       Documentary      Stanley, ID      failed  20000.0   1530.0   \n",
       "35833               Pop     Brooklyn, NY      failed  10000.0   2055.0   \n",
       "\n",
       "       funded percentage  backers                      funded date  levels  \\\n",
       "16028           1.081467      403  Thu, 01 Apr 2010 16:00:00 -0000       2   \n",
       "35901           0.000000        0  Sun, 12 Feb 2012 02:00:00 -0000       9   \n",
       "18155           0.000000        0  Wed, 08 Feb 2012 03:00:00 -0000       2   \n",
       "16232           0.000000        0  Sat, 01 Jan 2011 23:00:00 -0000       8   \n",
       "12645           0.000000        0  Tue, 01 Nov 2011 16:14:16 -0000       6   \n",
       "...                  ...      ...                              ...     ...   \n",
       "28629           0.317083       66  Sun, 03 Apr 2011 01:40:00 -0000       3   \n",
       "29329           0.011680        3  Thu, 31 Mar 2011 22:53:47 -0000       7   \n",
       "6007            0.000000        0  Mon, 04 Apr 2011 05:16:22 -0000      13   \n",
       "13118           0.076500        4  Mon, 04 Apr 2011 00:35:59 -0000       9   \n",
       "35833           0.205500       31  Fri, 01 Apr 2011 03:00:03 -0000       6   \n",
       "\n",
       "                                           reward levels  updates  comments  \\\n",
       "16028                                           $75,$150        7        62   \n",
       "35901    $1,$20,$50,$100,$250,$500,$1,000,$5,000,$10,000        0         1   \n",
       "18155                                            $20,$30        0         0   \n",
       "16232         $15,$100,$150,$250,$350,$500,$1,000,$2,000        0         0   \n",
       "12645                       $1,$50,$100,$250,$500,$1,000        0         0   \n",
       "...                                                  ...      ...       ...   \n",
       "28629                                       $10,$20,$900       10         3   \n",
       "29329                $10,$25,$50,$100,$500,$1,000,$5,000        0         0   \n",
       "6007   $1,$5,$10,$15,$20,$25,$35,$45,$55,$100,$500,$1...        0         0   \n",
       "13118     $5,$10,$20,$50,$100,$500,$1,000,$5,000,$10,000        0         0   \n",
       "35833                        $1,$15,$50,$150,$300,$1,000        0         1   \n",
       "\n",
       "       duration  \n",
       "16028      2.00  \n",
       "35901      2.40  \n",
       "18155      4.36  \n",
       "16232      4.98  \n",
       "12645      5.00  \n",
       "...         ...  \n",
       "28629     91.48  \n",
       "29329     91.96  \n",
       "6007      91.96  \n",
       "13118     91.96  \n",
       "35833     91.96  \n",
       "\n",
       "[11454 rows x 17 columns]"
      ]
     },
     "execution_count": 169,
     "metadata": {},
     "output_type": "execute_result"
    }
   ],
   "source": [
    "high_target.sort_values(by=['duration'])"
   ]
  },
  {
   "cell_type": "markdown",
   "id": "f98cbb14",
   "metadata": {},
   "source": [
    "In general, the shorter the campaign the higher the success rate. Caution need to be taken for higher amount because we have less data. The highest point itself is an outlier."
   ]
  },
  {
   "cell_type": "code",
   "execution_count": 175,
   "id": "15dc3e66",
   "metadata": {},
   "outputs": [
    {
     "data": {
      "text/html": [
       "<div>\n",
       "<style scoped>\n",
       "    .dataframe tbody tr th:only-of-type {\n",
       "        vertical-align: middle;\n",
       "    }\n",
       "\n",
       "    .dataframe tbody tr th {\n",
       "        vertical-align: top;\n",
       "    }\n",
       "\n",
       "    .dataframe thead th {\n",
       "        text-align: right;\n",
       "    }\n",
       "</style>\n",
       "<table border=\"1\" class=\"dataframe\">\n",
       "  <thead>\n",
       "    <tr style=\"text-align: right;\">\n",
       "      <th></th>\n",
       "      <th>goal</th>\n",
       "      <th>success counts</th>\n",
       "      <th>total counts</th>\n",
       "      <th>success rate in %</th>\n",
       "    </tr>\n",
       "  </thead>\n",
       "  <tbody>\n",
       "    <tr>\n",
       "      <th>0</th>\n",
       "      <td>&lt; 5000</td>\n",
       "      <td>14781</td>\n",
       "      <td>24398</td>\n",
       "      <td>60.582835</td>\n",
       "    </tr>\n",
       "    <tr>\n",
       "      <th>1</th>\n",
       "      <td>5000-10000</td>\n",
       "      <td>4680</td>\n",
       "      <td>10105</td>\n",
       "      <td>46.313706</td>\n",
       "    </tr>\n",
       "    <tr>\n",
       "      <th>2</th>\n",
       "      <td>10000-15000</td>\n",
       "      <td>1712</td>\n",
       "      <td>4275</td>\n",
       "      <td>40.046784</td>\n",
       "    </tr>\n",
       "    <tr>\n",
       "      <th>3</th>\n",
       "      <td>15000-20000</td>\n",
       "      <td>681</td>\n",
       "      <td>1986</td>\n",
       "      <td>34.290030</td>\n",
       "    </tr>\n",
       "    <tr>\n",
       "      <th>4</th>\n",
       "      <td>30000+</td>\n",
       "      <td>435</td>\n",
       "      <td>2741</td>\n",
       "      <td>15.870120</td>\n",
       "    </tr>\n",
       "    <tr>\n",
       "      <th>5</th>\n",
       "      <td>20000-25000</td>\n",
       "      <td>425</td>\n",
       "      <td>1486</td>\n",
       "      <td>28.600269</td>\n",
       "    </tr>\n",
       "    <tr>\n",
       "      <th>6</th>\n",
       "      <td>25000-30000</td>\n",
       "      <td>255</td>\n",
       "      <td>966</td>\n",
       "      <td>26.397516</td>\n",
       "    </tr>\n",
       "  </tbody>\n",
       "</table>\n",
       "</div>"
      ],
      "text/plain": [
       "          goal  success counts  total counts  success rate in %\n",
       "0       < 5000           14781         24398          60.582835\n",
       "1   5000-10000            4680         10105          46.313706\n",
       "2  10000-15000            1712          4275          40.046784\n",
       "3  15000-20000             681          1986          34.290030\n",
       "4       30000+             435          2741          15.870120\n",
       "5  20000-25000             425          1486          28.600269\n",
       "6  25000-30000             255           966          26.397516"
      ]
     },
     "execution_count": 175,
     "metadata": {},
     "output_type": "execute_result"
    }
   ],
   "source": [
    "def return_goal_bins(val):\n",
    "    if val < 5000:\n",
    "        return \"< 5000\"\n",
    "    elif val < 10000:\n",
    "        return \"5000-10000\"\n",
    "    elif val < 15000:\n",
    "        return \"10000-15000\"\n",
    "    elif val < 20000:\n",
    "        return \"15000-20000\"\n",
    "    elif val < 25000:\n",
    "        return \"20000-25000\"\n",
    "    elif val < 30000:\n",
    "        return \"25000-30000\"\n",
    "    else:\n",
    "        return \"30000+\"\n",
    "\n",
    "successful_state_series = df[df['status'] == \"successful\"]['goal']\n",
    "successful_state_goal_df = successful_state_series.map(return_goal_bins).value_counts().rename_axis('goal').reset_index(name='success counts')\n",
    "total_state_goal_df = df['goal'].map(return_goal_bins).value_counts().rename_axis('goal').reset_index(name='total counts')\n",
    "success_rate_goal = pd.merge(successful_state_goal_df, total_state_goal_df, on='goal')\n",
    "success_rate_goal ['success rate in %'] = success_rate_goal ['success counts']/success_rate_goal ['total counts']*100\n",
    "success_rate_goal.sort_values(by=['goal'])\n",
    "success_rate_goal"
   ]
  },
  {
   "cell_type": "markdown",
   "id": "af542d2a",
   "metadata": {},
   "source": [
    "Campaign with less than 5000 USD goal have high success rate. We would look more in depth below."
   ]
  },
  {
   "cell_type": "code",
   "execution_count": 178,
   "id": "01cd9ac6",
   "metadata": {},
   "outputs": [
    {
     "data": {
      "text/html": [
       "<div>\n",
       "<style scoped>\n",
       "    .dataframe tbody tr th:only-of-type {\n",
       "        vertical-align: middle;\n",
       "    }\n",
       "\n",
       "    .dataframe tbody tr th {\n",
       "        vertical-align: top;\n",
       "    }\n",
       "\n",
       "    .dataframe thead th {\n",
       "        text-align: right;\n",
       "    }\n",
       "</style>\n",
       "<table border=\"1\" class=\"dataframe\">\n",
       "  <thead>\n",
       "    <tr style=\"text-align: right;\">\n",
       "      <th></th>\n",
       "      <th>goal</th>\n",
       "      <th>success counts</th>\n",
       "      <th>total counts</th>\n",
       "      <th>success rate in %</th>\n",
       "    </tr>\n",
       "  </thead>\n",
       "  <tbody>\n",
       "    <tr>\n",
       "      <th>0</th>\n",
       "      <td>5000+</td>\n",
       "      <td>8188</td>\n",
       "      <td>21559</td>\n",
       "      <td>37.979498</td>\n",
       "    </tr>\n",
       "    <tr>\n",
       "      <th>1</th>\n",
       "      <td>500-1000</td>\n",
       "      <td>2420</td>\n",
       "      <td>3645</td>\n",
       "      <td>66.392318</td>\n",
       "    </tr>\n",
       "    <tr>\n",
       "      <th>2</th>\n",
       "      <td>1000-1500</td>\n",
       "      <td>2290</td>\n",
       "      <td>3712</td>\n",
       "      <td>61.691810</td>\n",
       "    </tr>\n",
       "    <tr>\n",
       "      <th>3</th>\n",
       "      <td>2000-2500</td>\n",
       "      <td>1966</td>\n",
       "      <td>3223</td>\n",
       "      <td>60.999069</td>\n",
       "    </tr>\n",
       "    <tr>\n",
       "      <th>4</th>\n",
       "      <td>3000-3500</td>\n",
       "      <td>1780</td>\n",
       "      <td>3110</td>\n",
       "      <td>57.234727</td>\n",
       "    </tr>\n",
       "    <tr>\n",
       "      <th>5</th>\n",
       "      <td>1500-2000</td>\n",
       "      <td>1577</td>\n",
       "      <td>2547</td>\n",
       "      <td>61.915980</td>\n",
       "    </tr>\n",
       "    <tr>\n",
       "      <th>6</th>\n",
       "      <td>2500-3000</td>\n",
       "      <td>1529</td>\n",
       "      <td>2620</td>\n",
       "      <td>58.358779</td>\n",
       "    </tr>\n",
       "    <tr>\n",
       "      <th>7</th>\n",
       "      <td>&lt; 500</td>\n",
       "      <td>1189</td>\n",
       "      <td>1731</td>\n",
       "      <td>68.688619</td>\n",
       "    </tr>\n",
       "    <tr>\n",
       "      <th>8</th>\n",
       "      <td>4000-4500</td>\n",
       "      <td>892</td>\n",
       "      <td>1620</td>\n",
       "      <td>55.061728</td>\n",
       "    </tr>\n",
       "    <tr>\n",
       "      <th>9</th>\n",
       "      <td>3500-4000</td>\n",
       "      <td>828</td>\n",
       "      <td>1571</td>\n",
       "      <td>52.705283</td>\n",
       "    </tr>\n",
       "    <tr>\n",
       "      <th>10</th>\n",
       "      <td>4500-5000</td>\n",
       "      <td>310</td>\n",
       "      <td>619</td>\n",
       "      <td>50.080775</td>\n",
       "    </tr>\n",
       "  </tbody>\n",
       "</table>\n",
       "</div>"
      ],
      "text/plain": [
       "         goal  success counts  total counts  success rate in %\n",
       "0       5000+            8188         21559          37.979498\n",
       "1    500-1000            2420          3645          66.392318\n",
       "2   1000-1500            2290          3712          61.691810\n",
       "3   2000-2500            1966          3223          60.999069\n",
       "4   3000-3500            1780          3110          57.234727\n",
       "5   1500-2000            1577          2547          61.915980\n",
       "6   2500-3000            1529          2620          58.358779\n",
       "7       < 500            1189          1731          68.688619\n",
       "8   4000-4500             892          1620          55.061728\n",
       "9   3500-4000             828          1571          52.705283\n",
       "10  4500-5000             310           619          50.080775"
      ]
     },
     "execution_count": 178,
     "metadata": {},
     "output_type": "execute_result"
    }
   ],
   "source": [
    "def return_goal_bins(val):\n",
    "    if val < 500:\n",
    "        return \"< 500\"\n",
    "    elif val < 1000:\n",
    "        return \"500-1000\"\n",
    "    elif val < 1500:\n",
    "        return \"1000-1500\"\n",
    "    elif val < 2000:\n",
    "        return \"1500-2000\"\n",
    "    elif val < 2500:\n",
    "        return \"2000-2500\"\n",
    "    elif val < 3000:\n",
    "        return \"2500-3000\"\n",
    "    elif val < 3500:\n",
    "        return \"3000-3500\"\n",
    "    elif val < 4000:\n",
    "        return \"3500-4000\"\n",
    "    elif val < 4500:\n",
    "        return \"4000-4500\"\n",
    "    elif val < 5000:\n",
    "        return \"4500-5000\"\n",
    "    else:\n",
    "        return \"5000+\"\n",
    "\n",
    "successful_state_series = df[df['status'] == \"successful\"]['goal']\n",
    "successful_state_goal_df = successful_state_series.map(return_goal_bins).value_counts().rename_axis('goal').reset_index(name='success counts')\n",
    "total_state_goal_df = df['goal'].map(return_goal_bins).value_counts().rename_axis('goal').reset_index(name='total counts')\n",
    "success_rate_goal = pd.merge(successful_state_goal_df, total_state_goal_df, on='goal')\n",
    "success_rate_goal ['success rate in %'] = success_rate_goal ['success counts']/success_rate_goal ['total counts']*100\n",
    "success_rate_goal.sort_values(by=['success rate in %'])\n",
    "success_rate_goal"
   ]
  },
  {
   "cell_type": "markdown",
   "id": "32429f97",
   "metadata": {},
   "source": [
    "Campaign with less than 1000 USD goal has 2/3 success rate, while less than 2500 USD has 60% rate."
   ]
  },
  {
   "cell_type": "code",
   "execution_count": 179,
   "id": "4174e347",
   "metadata": {},
   "outputs": [
    {
     "data": {
      "text/html": [
       "        <script type=\"text/javascript\">\n",
       "        window.PlotlyConfig = {MathJaxConfig: 'local'};\n",
       "        if (window.MathJax) {MathJax.Hub.Config({SVG: {font: \"STIX-Web\"}});}\n",
       "        if (typeof require !== 'undefined') {\n",
       "        require.undef(\"plotly\");\n",
       "        requirejs.config({\n",
       "            paths: {\n",
       "                'plotly': ['https://cdn.plot.ly/plotly-2.9.0.min']\n",
       "            }\n",
       "        });\n",
       "        require(['plotly'], function(Plotly) {\n",
       "            window._Plotly = Plotly;\n",
       "        });\n",
       "        }\n",
       "        </script>\n",
       "        "
      ]
     },
     "metadata": {},
     "output_type": "display_data"
    },
    {
     "data": {
      "application/vnd.plotly.v1+json": {
       "config": {
        "linkText": "Export to plot.ly",
        "plotlyServerURL": "https://plot.ly",
        "showLink": false
       },
       "data": [
        {
         "marker": {
          "color": "rgb(50,200,50)",
          "line": {
           "color": "rgb(100,100,100)",
           "width": 1
          }
         },
         "name": "successful",
         "type": "bar",
         "x": [
          "Dance",
          "Theater",
          "Music",
          "Art",
          "Film & Video",
          "Comics",
          "Film &amp; Video",
          "Food",
          "Photography",
          "Design",
          "Games",
          "Technology",
          "Publishing",
          "Fashion"
         ],
         "y": [
          69.25098554533508,
          65.8908507223114,
          62.23769815815999,
          52.75551102204409,
          49.39759036144578,
          48.507462686567166,
          47.32245460813606,
          45.51772063933287,
          42.60237780713342,
          41.23303167420814,
          36.53624856156502,
          35.63501849568434,
          35.0314465408805,
          29.48943661971831
         ]
        },
        {
         "marker": {
          "color": "rgb(200,50,50)",
          "line": {
           "color": "rgb(100,100,100)",
           "width": 1
          }
         },
         "name": "failed",
         "type": "bar",
         "x": [
          "Dance",
          "Theater",
          "Music",
          "Art",
          "Comics",
          "Film & Video",
          "Food",
          "Film &amp; Video",
          "Design",
          "Games",
          "Photography",
          "Publishing",
          "Technology",
          "Fashion"
         ],
         "y": [
          23.653088042049937,
          27.287319422150887,
          29.88179235773848,
          39.704408817635276,
          41.7910447761194,
          42.168674698795186,
          44.683808200138984,
          45.67532368037999,
          47.341628959276015,
          47.87111622554661,
          49.00924702774108,
          52.075471698113205,
          55.24044389642416,
          60.2112676056338
         ]
        }
       ],
       "layout": {
        "autosize": false,
        "barmode": "stack",
        "height": 400,
        "template": {
         "data": {
          "bar": [
           {
            "error_x": {
             "color": "#2a3f5f"
            },
            "error_y": {
             "color": "#2a3f5f"
            },
            "marker": {
             "line": {
              "color": "#E5ECF6",
              "width": 0.5
             },
             "pattern": {
              "fillmode": "overlay",
              "size": 10,
              "solidity": 0.2
             }
            },
            "type": "bar"
           }
          ],
          "barpolar": [
           {
            "marker": {
             "line": {
              "color": "#E5ECF6",
              "width": 0.5
             },
             "pattern": {
              "fillmode": "overlay",
              "size": 10,
              "solidity": 0.2
             }
            },
            "type": "barpolar"
           }
          ],
          "carpet": [
           {
            "aaxis": {
             "endlinecolor": "#2a3f5f",
             "gridcolor": "white",
             "linecolor": "white",
             "minorgridcolor": "white",
             "startlinecolor": "#2a3f5f"
            },
            "baxis": {
             "endlinecolor": "#2a3f5f",
             "gridcolor": "white",
             "linecolor": "white",
             "minorgridcolor": "white",
             "startlinecolor": "#2a3f5f"
            },
            "type": "carpet"
           }
          ],
          "choropleth": [
           {
            "colorbar": {
             "outlinewidth": 0,
             "ticks": ""
            },
            "type": "choropleth"
           }
          ],
          "contour": [
           {
            "colorbar": {
             "outlinewidth": 0,
             "ticks": ""
            },
            "colorscale": [
             [
              0,
              "#0d0887"
             ],
             [
              0.1111111111111111,
              "#46039f"
             ],
             [
              0.2222222222222222,
              "#7201a8"
             ],
             [
              0.3333333333333333,
              "#9c179e"
             ],
             [
              0.4444444444444444,
              "#bd3786"
             ],
             [
              0.5555555555555556,
              "#d8576b"
             ],
             [
              0.6666666666666666,
              "#ed7953"
             ],
             [
              0.7777777777777778,
              "#fb9f3a"
             ],
             [
              0.8888888888888888,
              "#fdca26"
             ],
             [
              1,
              "#f0f921"
             ]
            ],
            "type": "contour"
           }
          ],
          "contourcarpet": [
           {
            "colorbar": {
             "outlinewidth": 0,
             "ticks": ""
            },
            "type": "contourcarpet"
           }
          ],
          "heatmap": [
           {
            "colorbar": {
             "outlinewidth": 0,
             "ticks": ""
            },
            "colorscale": [
             [
              0,
              "#0d0887"
             ],
             [
              0.1111111111111111,
              "#46039f"
             ],
             [
              0.2222222222222222,
              "#7201a8"
             ],
             [
              0.3333333333333333,
              "#9c179e"
             ],
             [
              0.4444444444444444,
              "#bd3786"
             ],
             [
              0.5555555555555556,
              "#d8576b"
             ],
             [
              0.6666666666666666,
              "#ed7953"
             ],
             [
              0.7777777777777778,
              "#fb9f3a"
             ],
             [
              0.8888888888888888,
              "#fdca26"
             ],
             [
              1,
              "#f0f921"
             ]
            ],
            "type": "heatmap"
           }
          ],
          "heatmapgl": [
           {
            "colorbar": {
             "outlinewidth": 0,
             "ticks": ""
            },
            "colorscale": [
             [
              0,
              "#0d0887"
             ],
             [
              0.1111111111111111,
              "#46039f"
             ],
             [
              0.2222222222222222,
              "#7201a8"
             ],
             [
              0.3333333333333333,
              "#9c179e"
             ],
             [
              0.4444444444444444,
              "#bd3786"
             ],
             [
              0.5555555555555556,
              "#d8576b"
             ],
             [
              0.6666666666666666,
              "#ed7953"
             ],
             [
              0.7777777777777778,
              "#fb9f3a"
             ],
             [
              0.8888888888888888,
              "#fdca26"
             ],
             [
              1,
              "#f0f921"
             ]
            ],
            "type": "heatmapgl"
           }
          ],
          "histogram": [
           {
            "marker": {
             "pattern": {
              "fillmode": "overlay",
              "size": 10,
              "solidity": 0.2
             }
            },
            "type": "histogram"
           }
          ],
          "histogram2d": [
           {
            "colorbar": {
             "outlinewidth": 0,
             "ticks": ""
            },
            "colorscale": [
             [
              0,
              "#0d0887"
             ],
             [
              0.1111111111111111,
              "#46039f"
             ],
             [
              0.2222222222222222,
              "#7201a8"
             ],
             [
              0.3333333333333333,
              "#9c179e"
             ],
             [
              0.4444444444444444,
              "#bd3786"
             ],
             [
              0.5555555555555556,
              "#d8576b"
             ],
             [
              0.6666666666666666,
              "#ed7953"
             ],
             [
              0.7777777777777778,
              "#fb9f3a"
             ],
             [
              0.8888888888888888,
              "#fdca26"
             ],
             [
              1,
              "#f0f921"
             ]
            ],
            "type": "histogram2d"
           }
          ],
          "histogram2dcontour": [
           {
            "colorbar": {
             "outlinewidth": 0,
             "ticks": ""
            },
            "colorscale": [
             [
              0,
              "#0d0887"
             ],
             [
              0.1111111111111111,
              "#46039f"
             ],
             [
              0.2222222222222222,
              "#7201a8"
             ],
             [
              0.3333333333333333,
              "#9c179e"
             ],
             [
              0.4444444444444444,
              "#bd3786"
             ],
             [
              0.5555555555555556,
              "#d8576b"
             ],
             [
              0.6666666666666666,
              "#ed7953"
             ],
             [
              0.7777777777777778,
              "#fb9f3a"
             ],
             [
              0.8888888888888888,
              "#fdca26"
             ],
             [
              1,
              "#f0f921"
             ]
            ],
            "type": "histogram2dcontour"
           }
          ],
          "mesh3d": [
           {
            "colorbar": {
             "outlinewidth": 0,
             "ticks": ""
            },
            "type": "mesh3d"
           }
          ],
          "parcoords": [
           {
            "line": {
             "colorbar": {
              "outlinewidth": 0,
              "ticks": ""
             }
            },
            "type": "parcoords"
           }
          ],
          "pie": [
           {
            "automargin": true,
            "type": "pie"
           }
          ],
          "scatter": [
           {
            "marker": {
             "colorbar": {
              "outlinewidth": 0,
              "ticks": ""
             }
            },
            "type": "scatter"
           }
          ],
          "scatter3d": [
           {
            "line": {
             "colorbar": {
              "outlinewidth": 0,
              "ticks": ""
             }
            },
            "marker": {
             "colorbar": {
              "outlinewidth": 0,
              "ticks": ""
             }
            },
            "type": "scatter3d"
           }
          ],
          "scattercarpet": [
           {
            "marker": {
             "colorbar": {
              "outlinewidth": 0,
              "ticks": ""
             }
            },
            "type": "scattercarpet"
           }
          ],
          "scattergeo": [
           {
            "marker": {
             "colorbar": {
              "outlinewidth": 0,
              "ticks": ""
             }
            },
            "type": "scattergeo"
           }
          ],
          "scattergl": [
           {
            "marker": {
             "colorbar": {
              "outlinewidth": 0,
              "ticks": ""
             }
            },
            "type": "scattergl"
           }
          ],
          "scattermapbox": [
           {
            "marker": {
             "colorbar": {
              "outlinewidth": 0,
              "ticks": ""
             }
            },
            "type": "scattermapbox"
           }
          ],
          "scatterpolar": [
           {
            "marker": {
             "colorbar": {
              "outlinewidth": 0,
              "ticks": ""
             }
            },
            "type": "scatterpolar"
           }
          ],
          "scatterpolargl": [
           {
            "marker": {
             "colorbar": {
              "outlinewidth": 0,
              "ticks": ""
             }
            },
            "type": "scatterpolargl"
           }
          ],
          "scatterternary": [
           {
            "marker": {
             "colorbar": {
              "outlinewidth": 0,
              "ticks": ""
             }
            },
            "type": "scatterternary"
           }
          ],
          "surface": [
           {
            "colorbar": {
             "outlinewidth": 0,
             "ticks": ""
            },
            "colorscale": [
             [
              0,
              "#0d0887"
             ],
             [
              0.1111111111111111,
              "#46039f"
             ],
             [
              0.2222222222222222,
              "#7201a8"
             ],
             [
              0.3333333333333333,
              "#9c179e"
             ],
             [
              0.4444444444444444,
              "#bd3786"
             ],
             [
              0.5555555555555556,
              "#d8576b"
             ],
             [
              0.6666666666666666,
              "#ed7953"
             ],
             [
              0.7777777777777778,
              "#fb9f3a"
             ],
             [
              0.8888888888888888,
              "#fdca26"
             ],
             [
              1,
              "#f0f921"
             ]
            ],
            "type": "surface"
           }
          ],
          "table": [
           {
            "cells": {
             "fill": {
              "color": "#EBF0F8"
             },
             "line": {
              "color": "white"
             }
            },
            "header": {
             "fill": {
              "color": "#C8D4E3"
             },
             "line": {
              "color": "white"
             }
            },
            "type": "table"
           }
          ]
         },
         "layout": {
          "annotationdefaults": {
           "arrowcolor": "#2a3f5f",
           "arrowhead": 0,
           "arrowwidth": 1
          },
          "autotypenumbers": "strict",
          "coloraxis": {
           "colorbar": {
            "outlinewidth": 0,
            "ticks": ""
           }
          },
          "colorscale": {
           "diverging": [
            [
             0,
             "#8e0152"
            ],
            [
             0.1,
             "#c51b7d"
            ],
            [
             0.2,
             "#de77ae"
            ],
            [
             0.3,
             "#f1b6da"
            ],
            [
             0.4,
             "#fde0ef"
            ],
            [
             0.5,
             "#f7f7f7"
            ],
            [
             0.6,
             "#e6f5d0"
            ],
            [
             0.7,
             "#b8e186"
            ],
            [
             0.8,
             "#7fbc41"
            ],
            [
             0.9,
             "#4d9221"
            ],
            [
             1,
             "#276419"
            ]
           ],
           "sequential": [
            [
             0,
             "#0d0887"
            ],
            [
             0.1111111111111111,
             "#46039f"
            ],
            [
             0.2222222222222222,
             "#7201a8"
            ],
            [
             0.3333333333333333,
             "#9c179e"
            ],
            [
             0.4444444444444444,
             "#bd3786"
            ],
            [
             0.5555555555555556,
             "#d8576b"
            ],
            [
             0.6666666666666666,
             "#ed7953"
            ],
            [
             0.7777777777777778,
             "#fb9f3a"
            ],
            [
             0.8888888888888888,
             "#fdca26"
            ],
            [
             1,
             "#f0f921"
            ]
           ],
           "sequentialminus": [
            [
             0,
             "#0d0887"
            ],
            [
             0.1111111111111111,
             "#46039f"
            ],
            [
             0.2222222222222222,
             "#7201a8"
            ],
            [
             0.3333333333333333,
             "#9c179e"
            ],
            [
             0.4444444444444444,
             "#bd3786"
            ],
            [
             0.5555555555555556,
             "#d8576b"
            ],
            [
             0.6666666666666666,
             "#ed7953"
            ],
            [
             0.7777777777777778,
             "#fb9f3a"
            ],
            [
             0.8888888888888888,
             "#fdca26"
            ],
            [
             1,
             "#f0f921"
            ]
           ]
          },
          "colorway": [
           "#636efa",
           "#EF553B",
           "#00cc96",
           "#ab63fa",
           "#FFA15A",
           "#19d3f3",
           "#FF6692",
           "#B6E880",
           "#FF97FF",
           "#FECB52"
          ],
          "font": {
           "color": "#2a3f5f"
          },
          "geo": {
           "bgcolor": "white",
           "lakecolor": "white",
           "landcolor": "#E5ECF6",
           "showlakes": true,
           "showland": true,
           "subunitcolor": "white"
          },
          "hoverlabel": {
           "align": "left"
          },
          "hovermode": "closest",
          "mapbox": {
           "style": "light"
          },
          "paper_bgcolor": "white",
          "plot_bgcolor": "#E5ECF6",
          "polar": {
           "angularaxis": {
            "gridcolor": "white",
            "linecolor": "white",
            "ticks": ""
           },
           "bgcolor": "#E5ECF6",
           "radialaxis": {
            "gridcolor": "white",
            "linecolor": "white",
            "ticks": ""
           }
          },
          "scene": {
           "xaxis": {
            "backgroundcolor": "#E5ECF6",
            "gridcolor": "white",
            "gridwidth": 2,
            "linecolor": "white",
            "showbackground": true,
            "ticks": "",
            "zerolinecolor": "white"
           },
           "yaxis": {
            "backgroundcolor": "#E5ECF6",
            "gridcolor": "white",
            "gridwidth": 2,
            "linecolor": "white",
            "showbackground": true,
            "ticks": "",
            "zerolinecolor": "white"
           },
           "zaxis": {
            "backgroundcolor": "#E5ECF6",
            "gridcolor": "white",
            "gridwidth": 2,
            "linecolor": "white",
            "showbackground": true,
            "ticks": "",
            "zerolinecolor": "white"
           }
          },
          "shapedefaults": {
           "line": {
            "color": "#2a3f5f"
           }
          },
          "ternary": {
           "aaxis": {
            "gridcolor": "white",
            "linecolor": "white",
            "ticks": ""
           },
           "baxis": {
            "gridcolor": "white",
            "linecolor": "white",
            "ticks": ""
           },
           "bgcolor": "#E5ECF6",
           "caxis": {
            "gridcolor": "white",
            "linecolor": "white",
            "ticks": ""
           }
          },
          "title": {
           "x": 0.05
          },
          "xaxis": {
           "automargin": true,
           "gridcolor": "white",
           "linecolor": "white",
           "ticks": "",
           "title": {
            "standoff": 15
           },
           "zerolinecolor": "white",
           "zerolinewidth": 2
          },
          "yaxis": {
           "automargin": true,
           "gridcolor": "white",
           "linecolor": "white",
           "ticks": "",
           "title": {
            "standoff": 15
           },
           "zerolinecolor": "white",
           "zerolinewidth": 2
          }
         }
        },
        "title": {
         "text": "% of successful and failed projects by main category"
        },
        "width": 800
       }
      },
      "text/html": [
       "<div>                            <div id=\"8df17499-2c3d-4ee0-a867-5d9b122a71d1\" class=\"plotly-graph-div\" style=\"height:400px; width:800px;\"></div>            <script type=\"text/javascript\">                require([\"plotly\"], function(Plotly) {                    window.PLOTLYENV=window.PLOTLYENV || {};                                    if (document.getElementById(\"8df17499-2c3d-4ee0-a867-5d9b122a71d1\")) {                    Plotly.newPlot(                        \"8df17499-2c3d-4ee0-a867-5d9b122a71d1\",                        [{\"marker\":{\"color\":\"rgb(50,200,50)\",\"line\":{\"color\":\"rgb(100,100,100)\",\"width\":1}},\"name\":\"successful\",\"x\":[\"Dance\",\"Theater\",\"Music\",\"Art\",\"Film & Video\",\"Comics\",\"Film &amp; Video\",\"Food\",\"Photography\",\"Design\",\"Games\",\"Technology\",\"Publishing\",\"Fashion\"],\"y\":[69.25098554533508,65.8908507223114,62.23769815815999,52.75551102204409,49.39759036144578,48.507462686567166,47.32245460813606,45.51772063933287,42.60237780713342,41.23303167420814,36.53624856156502,35.63501849568434,35.0314465408805,29.48943661971831],\"type\":\"bar\"},{\"marker\":{\"color\":\"rgb(200,50,50)\",\"line\":{\"color\":\"rgb(100,100,100)\",\"width\":1}},\"name\":\"failed\",\"x\":[\"Dance\",\"Theater\",\"Music\",\"Art\",\"Comics\",\"Film & Video\",\"Food\",\"Film &amp; Video\",\"Design\",\"Games\",\"Photography\",\"Publishing\",\"Technology\",\"Fashion\"],\"y\":[23.653088042049937,27.287319422150887,29.88179235773848,39.704408817635276,41.7910447761194,42.168674698795186,44.683808200138984,45.67532368037999,47.341628959276015,47.87111622554661,49.00924702774108,52.075471698113205,55.24044389642416,60.2112676056338],\"type\":\"bar\"}],                        {\"autosize\":false,\"barmode\":\"stack\",\"height\":400,\"template\":{\"data\":{\"barpolar\":[{\"marker\":{\"line\":{\"color\":\"#E5ECF6\",\"width\":0.5},\"pattern\":{\"fillmode\":\"overlay\",\"size\":10,\"solidity\":0.2}},\"type\":\"barpolar\"}],\"bar\":[{\"error_x\":{\"color\":\"#2a3f5f\"},\"error_y\":{\"color\":\"#2a3f5f\"},\"marker\":{\"line\":{\"color\":\"#E5ECF6\",\"width\":0.5},\"pattern\":{\"fillmode\":\"overlay\",\"size\":10,\"solidity\":0.2}},\"type\":\"bar\"}],\"carpet\":[{\"aaxis\":{\"endlinecolor\":\"#2a3f5f\",\"gridcolor\":\"white\",\"linecolor\":\"white\",\"minorgridcolor\":\"white\",\"startlinecolor\":\"#2a3f5f\"},\"baxis\":{\"endlinecolor\":\"#2a3f5f\",\"gridcolor\":\"white\",\"linecolor\":\"white\",\"minorgridcolor\":\"white\",\"startlinecolor\":\"#2a3f5f\"},\"type\":\"carpet\"}],\"choropleth\":[{\"colorbar\":{\"outlinewidth\":0,\"ticks\":\"\"},\"type\":\"choropleth\"}],\"contourcarpet\":[{\"colorbar\":{\"outlinewidth\":0,\"ticks\":\"\"},\"type\":\"contourcarpet\"}],\"contour\":[{\"colorbar\":{\"outlinewidth\":0,\"ticks\":\"\"},\"colorscale\":[[0.0,\"#0d0887\"],[0.1111111111111111,\"#46039f\"],[0.2222222222222222,\"#7201a8\"],[0.3333333333333333,\"#9c179e\"],[0.4444444444444444,\"#bd3786\"],[0.5555555555555556,\"#d8576b\"],[0.6666666666666666,\"#ed7953\"],[0.7777777777777778,\"#fb9f3a\"],[0.8888888888888888,\"#fdca26\"],[1.0,\"#f0f921\"]],\"type\":\"contour\"}],\"heatmapgl\":[{\"colorbar\":{\"outlinewidth\":0,\"ticks\":\"\"},\"colorscale\":[[0.0,\"#0d0887\"],[0.1111111111111111,\"#46039f\"],[0.2222222222222222,\"#7201a8\"],[0.3333333333333333,\"#9c179e\"],[0.4444444444444444,\"#bd3786\"],[0.5555555555555556,\"#d8576b\"],[0.6666666666666666,\"#ed7953\"],[0.7777777777777778,\"#fb9f3a\"],[0.8888888888888888,\"#fdca26\"],[1.0,\"#f0f921\"]],\"type\":\"heatmapgl\"}],\"heatmap\":[{\"colorbar\":{\"outlinewidth\":0,\"ticks\":\"\"},\"colorscale\":[[0.0,\"#0d0887\"],[0.1111111111111111,\"#46039f\"],[0.2222222222222222,\"#7201a8\"],[0.3333333333333333,\"#9c179e\"],[0.4444444444444444,\"#bd3786\"],[0.5555555555555556,\"#d8576b\"],[0.6666666666666666,\"#ed7953\"],[0.7777777777777778,\"#fb9f3a\"],[0.8888888888888888,\"#fdca26\"],[1.0,\"#f0f921\"]],\"type\":\"heatmap\"}],\"histogram2dcontour\":[{\"colorbar\":{\"outlinewidth\":0,\"ticks\":\"\"},\"colorscale\":[[0.0,\"#0d0887\"],[0.1111111111111111,\"#46039f\"],[0.2222222222222222,\"#7201a8\"],[0.3333333333333333,\"#9c179e\"],[0.4444444444444444,\"#bd3786\"],[0.5555555555555556,\"#d8576b\"],[0.6666666666666666,\"#ed7953\"],[0.7777777777777778,\"#fb9f3a\"],[0.8888888888888888,\"#fdca26\"],[1.0,\"#f0f921\"]],\"type\":\"histogram2dcontour\"}],\"histogram2d\":[{\"colorbar\":{\"outlinewidth\":0,\"ticks\":\"\"},\"colorscale\":[[0.0,\"#0d0887\"],[0.1111111111111111,\"#46039f\"],[0.2222222222222222,\"#7201a8\"],[0.3333333333333333,\"#9c179e\"],[0.4444444444444444,\"#bd3786\"],[0.5555555555555556,\"#d8576b\"],[0.6666666666666666,\"#ed7953\"],[0.7777777777777778,\"#fb9f3a\"],[0.8888888888888888,\"#fdca26\"],[1.0,\"#f0f921\"]],\"type\":\"histogram2d\"}],\"histogram\":[{\"marker\":{\"pattern\":{\"fillmode\":\"overlay\",\"size\":10,\"solidity\":0.2}},\"type\":\"histogram\"}],\"mesh3d\":[{\"colorbar\":{\"outlinewidth\":0,\"ticks\":\"\"},\"type\":\"mesh3d\"}],\"parcoords\":[{\"line\":{\"colorbar\":{\"outlinewidth\":0,\"ticks\":\"\"}},\"type\":\"parcoords\"}],\"pie\":[{\"automargin\":true,\"type\":\"pie\"}],\"scatter3d\":[{\"line\":{\"colorbar\":{\"outlinewidth\":0,\"ticks\":\"\"}},\"marker\":{\"colorbar\":{\"outlinewidth\":0,\"ticks\":\"\"}},\"type\":\"scatter3d\"}],\"scattercarpet\":[{\"marker\":{\"colorbar\":{\"outlinewidth\":0,\"ticks\":\"\"}},\"type\":\"scattercarpet\"}],\"scattergeo\":[{\"marker\":{\"colorbar\":{\"outlinewidth\":0,\"ticks\":\"\"}},\"type\":\"scattergeo\"}],\"scattergl\":[{\"marker\":{\"colorbar\":{\"outlinewidth\":0,\"ticks\":\"\"}},\"type\":\"scattergl\"}],\"scattermapbox\":[{\"marker\":{\"colorbar\":{\"outlinewidth\":0,\"ticks\":\"\"}},\"type\":\"scattermapbox\"}],\"scatterpolargl\":[{\"marker\":{\"colorbar\":{\"outlinewidth\":0,\"ticks\":\"\"}},\"type\":\"scatterpolargl\"}],\"scatterpolar\":[{\"marker\":{\"colorbar\":{\"outlinewidth\":0,\"ticks\":\"\"}},\"type\":\"scatterpolar\"}],\"scatter\":[{\"marker\":{\"colorbar\":{\"outlinewidth\":0,\"ticks\":\"\"}},\"type\":\"scatter\"}],\"scatterternary\":[{\"marker\":{\"colorbar\":{\"outlinewidth\":0,\"ticks\":\"\"}},\"type\":\"scatterternary\"}],\"surface\":[{\"colorbar\":{\"outlinewidth\":0,\"ticks\":\"\"},\"colorscale\":[[0.0,\"#0d0887\"],[0.1111111111111111,\"#46039f\"],[0.2222222222222222,\"#7201a8\"],[0.3333333333333333,\"#9c179e\"],[0.4444444444444444,\"#bd3786\"],[0.5555555555555556,\"#d8576b\"],[0.6666666666666666,\"#ed7953\"],[0.7777777777777778,\"#fb9f3a\"],[0.8888888888888888,\"#fdca26\"],[1.0,\"#f0f921\"]],\"type\":\"surface\"}],\"table\":[{\"cells\":{\"fill\":{\"color\":\"#EBF0F8\"},\"line\":{\"color\":\"white\"}},\"header\":{\"fill\":{\"color\":\"#C8D4E3\"},\"line\":{\"color\":\"white\"}},\"type\":\"table\"}]},\"layout\":{\"annotationdefaults\":{\"arrowcolor\":\"#2a3f5f\",\"arrowhead\":0,\"arrowwidth\":1},\"autotypenumbers\":\"strict\",\"coloraxis\":{\"colorbar\":{\"outlinewidth\":0,\"ticks\":\"\"}},\"colorscale\":{\"diverging\":[[0,\"#8e0152\"],[0.1,\"#c51b7d\"],[0.2,\"#de77ae\"],[0.3,\"#f1b6da\"],[0.4,\"#fde0ef\"],[0.5,\"#f7f7f7\"],[0.6,\"#e6f5d0\"],[0.7,\"#b8e186\"],[0.8,\"#7fbc41\"],[0.9,\"#4d9221\"],[1,\"#276419\"]],\"sequential\":[[0.0,\"#0d0887\"],[0.1111111111111111,\"#46039f\"],[0.2222222222222222,\"#7201a8\"],[0.3333333333333333,\"#9c179e\"],[0.4444444444444444,\"#bd3786\"],[0.5555555555555556,\"#d8576b\"],[0.6666666666666666,\"#ed7953\"],[0.7777777777777778,\"#fb9f3a\"],[0.8888888888888888,\"#fdca26\"],[1.0,\"#f0f921\"]],\"sequentialminus\":[[0.0,\"#0d0887\"],[0.1111111111111111,\"#46039f\"],[0.2222222222222222,\"#7201a8\"],[0.3333333333333333,\"#9c179e\"],[0.4444444444444444,\"#bd3786\"],[0.5555555555555556,\"#d8576b\"],[0.6666666666666666,\"#ed7953\"],[0.7777777777777778,\"#fb9f3a\"],[0.8888888888888888,\"#fdca26\"],[1.0,\"#f0f921\"]]},\"colorway\":[\"#636efa\",\"#EF553B\",\"#00cc96\",\"#ab63fa\",\"#FFA15A\",\"#19d3f3\",\"#FF6692\",\"#B6E880\",\"#FF97FF\",\"#FECB52\"],\"font\":{\"color\":\"#2a3f5f\"},\"geo\":{\"bgcolor\":\"white\",\"lakecolor\":\"white\",\"landcolor\":\"#E5ECF6\",\"showlakes\":true,\"showland\":true,\"subunitcolor\":\"white\"},\"hoverlabel\":{\"align\":\"left\"},\"hovermode\":\"closest\",\"mapbox\":{\"style\":\"light\"},\"paper_bgcolor\":\"white\",\"plot_bgcolor\":\"#E5ECF6\",\"polar\":{\"angularaxis\":{\"gridcolor\":\"white\",\"linecolor\":\"white\",\"ticks\":\"\"},\"bgcolor\":\"#E5ECF6\",\"radialaxis\":{\"gridcolor\":\"white\",\"linecolor\":\"white\",\"ticks\":\"\"}},\"scene\":{\"xaxis\":{\"backgroundcolor\":\"#E5ECF6\",\"gridcolor\":\"white\",\"gridwidth\":2,\"linecolor\":\"white\",\"showbackground\":true,\"ticks\":\"\",\"zerolinecolor\":\"white\"},\"yaxis\":{\"backgroundcolor\":\"#E5ECF6\",\"gridcolor\":\"white\",\"gridwidth\":2,\"linecolor\":\"white\",\"showbackground\":true,\"ticks\":\"\",\"zerolinecolor\":\"white\"},\"zaxis\":{\"backgroundcolor\":\"#E5ECF6\",\"gridcolor\":\"white\",\"gridwidth\":2,\"linecolor\":\"white\",\"showbackground\":true,\"ticks\":\"\",\"zerolinecolor\":\"white\"}},\"shapedefaults\":{\"line\":{\"color\":\"#2a3f5f\"}},\"ternary\":{\"aaxis\":{\"gridcolor\":\"white\",\"linecolor\":\"white\",\"ticks\":\"\"},\"baxis\":{\"gridcolor\":\"white\",\"linecolor\":\"white\",\"ticks\":\"\"},\"bgcolor\":\"#E5ECF6\",\"caxis\":{\"gridcolor\":\"white\",\"linecolor\":\"white\",\"ticks\":\"\"}},\"title\":{\"x\":0.05},\"xaxis\":{\"automargin\":true,\"gridcolor\":\"white\",\"linecolor\":\"white\",\"ticks\":\"\",\"title\":{\"standoff\":15},\"zerolinecolor\":\"white\",\"zerolinewidth\":2},\"yaxis\":{\"automargin\":true,\"gridcolor\":\"white\",\"linecolor\":\"white\",\"ticks\":\"\",\"title\":{\"standoff\":15},\"zerolinecolor\":\"white\",\"zerolinewidth\":2}}},\"title\":{\"text\":\"% of successful and failed projects by main category\"},\"width\":800},                        {\"responsive\": true}                    ).then(function(){\n",
       "                            \n",
       "var gd = document.getElementById('8df17499-2c3d-4ee0-a867-5d9b122a71d1');\n",
       "var x = new MutationObserver(function (mutations, observer) {{\n",
       "        var display = window.getComputedStyle(gd).display;\n",
       "        if (!display || display === 'none') {{\n",
       "            console.log([gd, 'removed!']);\n",
       "            Plotly.purge(gd);\n",
       "            observer.disconnect();\n",
       "        }}\n",
       "}});\n",
       "\n",
       "// Listen for the removal of the full notebook cells\n",
       "var notebookContainer = gd.closest('#notebook-container');\n",
       "if (notebookContainer) {{\n",
       "    x.observe(notebookContainer, {childList: true});\n",
       "}}\n",
       "\n",
       "// Listen for the clearing of the current output cell\n",
       "var outputEl = gd.closest('.output');\n",
       "if (outputEl) {{\n",
       "    x.observe(outputEl, {childList: true});\n",
       "}}\n",
       "\n",
       "                        })                };                });            </script>        </div>"
      ]
     },
     "metadata": {},
     "output_type": "display_data"
    }
   ],
   "source": [
    "import plotly.offline as py\n",
    "py.init_notebook_mode(connected=True)\n",
    "import plotly.graph_objs as go\n",
    "import plotly.figure_factory as ff\n",
    "\n",
    "from datetime import datetime\n",
    "\n",
    "from sklearn.linear_model import LogisticRegression\n",
    "from sklearn.model_selection import train_test_split\n",
    "from sklearn.preprocessing import StandardScaler\n",
    "main_colors = dict({'failed': 'rgb(200,50,50)', 'successful': 'rgb(50,200,50)'})\n",
    "data = []\n",
    "annotations = []\n",
    "\n",
    "rate_success_cat = df[df['status'] == 'successful'].groupby(['category']).count()['project id']\\\n",
    "                / df.groupby(['category']).count()['project id'] * 100\n",
    "rate_failed_cat = df[df['status'] == 'failed'].groupby(['category']).count()['project id']\\\n",
    "                / df.groupby(['category']).count()['project id'] * 100\n",
    "    \n",
    "rate_success_cat = rate_success_cat.sort_values(ascending=False)\n",
    "rate_failed_cat = rate_failed_cat.sort_values(ascending=True)\n",
    "\n",
    "bar_success = go.Bar(\n",
    "        x=rate_success_cat.index,\n",
    "        y=rate_success_cat,\n",
    "        name='successful',\n",
    "        marker=dict(\n",
    "            color=main_colors['successful'],\n",
    "            line=dict(\n",
    "                color='rgb(100,100,100)',\n",
    "                width=1,\n",
    "            )\n",
    "        ),\n",
    "    )\n",
    "\n",
    "bar_failed = go.Bar(\n",
    "        x=rate_failed_cat.index,\n",
    "        y=rate_failed_cat,\n",
    "        name='failed',\n",
    "        marker=dict(\n",
    "            color=main_colors['failed'],\n",
    "            line=dict(\n",
    "                color='rgb(100,100,100)',\n",
    "                width=1,\n",
    "            )\n",
    "        ),\n",
    "    )\n",
    "\n",
    "data = [bar_success, bar_failed]\n",
    "layout = go.Layout(\n",
    "    barmode='stack',\n",
    "    title='% of successful and failed projects by main category',\n",
    "    autosize=False,\n",
    "    width=800,\n",
    "    height=400,\n",
    "    annotations=annotations\n",
    ")\n",
    "\n",
    "fig = go.Figure(data=data, layout=layout)\n",
    "py.iplot(fig, filename='main_cat')"
   ]
  },
  {
   "cell_type": "markdown",
   "id": "885d651e",
   "metadata": {},
   "source": [
    "# Time Series"
   ]
  },
  {
   "cell_type": "code",
   "execution_count": 180,
   "id": "6a8a34cb",
   "metadata": {},
   "outputs": [
    {
     "data": {
      "text/plain": [
       "0        Fri, 19 Aug 2011 19:28:17 -0000\n",
       "1        Mon, 02 Aug 2010 03:59:00 -0000\n",
       "2        Fri, 08 Jun 2012 00:00:31 -0000\n",
       "3        Sun, 08 Apr 2012 02:14:00 -0000\n",
       "4        Wed, 01 Jun 2011 15:25:39 -0000\n",
       "                      ...               \n",
       "45952    Fri, 30 Mar 2012 13:57:00 -0000\n",
       "45953    Sun, 22 Apr 2012 02:12:10 -0000\n",
       "45954    Mon, 16 Jan 2012 05:00:00 -0000\n",
       "45955    Sat, 19 May 2012 19:44:47 -0000\n",
       "45956    Thu, 04 Aug 2011 04:30:00 -0000\n",
       "Name: funded date, Length: 45957, dtype: object"
      ]
     },
     "execution_count": 180,
     "metadata": {},
     "output_type": "execute_result"
    }
   ],
   "source": [
    "from datetime import datetime\n",
    "df[\"funded date\"]"
   ]
  },
  {
   "cell_type": "code",
   "execution_count": 236,
   "id": "fb40d509",
   "metadata": {},
   "outputs": [
    {
     "data": {
      "text/plain": [
       "0       2011-07-20 15:28:17-04:00\n",
       "1       2010-06-15 19:39:48-04:00\n",
       "2       2012-05-10 20:00:31-04:00\n",
       "3       2012-03-06 15:57:12-05:00\n",
       "4       2011-05-02 11:25:39-04:00\n",
       "                   ...           \n",
       "45952   2012-02-21 13:01:48-05:00\n",
       "45953   2012-02-21 22:09:46-05:00\n",
       "45954   2011-12-19 16:19:12-05:00\n",
       "45955   2012-04-19 15:44:47-04:00\n",
       "45956   2011-06-24 15:22:48-04:00\n",
       "Name: east, Length: 45957, dtype: datetime64[ns, US/Eastern]"
      ]
     },
     "execution_count": 236,
     "metadata": {},
     "output_type": "execute_result"
    }
   ],
   "source": [
    "df['east'] = pd.to_datetime(df[\"funded date\"]) - pd.to_timedelta(df['duration'], unit = 'D') #get campaign start time\n",
    "df['east'] = df['east'].dt.tz_convert('US/Eastern') #convert to eastern time\n",
    "df.east"
   ]
  },
  {
   "cell_type": "code",
   "execution_count": 237,
   "id": "d31e38ab",
   "metadata": {},
   "outputs": [],
   "source": [
    "df['Date'] = pd.to_datetime(df.east.dt.date) #get starting date in Eastern time"
   ]
  },
  {
   "cell_type": "code",
   "execution_count": 238,
   "id": "a4437d39",
   "metadata": {},
   "outputs": [
    {
     "data": {
      "text/html": [
       "<div>\n",
       "<style scoped>\n",
       "    .dataframe tbody tr th:only-of-type {\n",
       "        vertical-align: middle;\n",
       "    }\n",
       "\n",
       "    .dataframe tbody tr th {\n",
       "        vertical-align: top;\n",
       "    }\n",
       "\n",
       "    .dataframe thead th {\n",
       "        text-align: right;\n",
       "    }\n",
       "</style>\n",
       "<table border=\"1\" class=\"dataframe\">\n",
       "  <thead>\n",
       "    <tr style=\"text-align: right;\">\n",
       "      <th></th>\n",
       "      <th>project id</th>\n",
       "      <th>name</th>\n",
       "      <th>url</th>\n",
       "      <th>category</th>\n",
       "      <th>subcategory</th>\n",
       "      <th>location</th>\n",
       "      <th>status</th>\n",
       "      <th>goal</th>\n",
       "      <th>pledged</th>\n",
       "      <th>funded percentage</th>\n",
       "      <th>...</th>\n",
       "      <th>levels</th>\n",
       "      <th>reward levels</th>\n",
       "      <th>updates</th>\n",
       "      <th>comments</th>\n",
       "      <th>duration</th>\n",
       "      <th>east</th>\n",
       "      <th>Date</th>\n",
       "      <th>Hour</th>\n",
       "      <th>Day</th>\n",
       "      <th>Month</th>\n",
       "    </tr>\n",
       "  </thead>\n",
       "  <tbody>\n",
       "    <tr>\n",
       "      <th>0</th>\n",
       "      <td>39409</td>\n",
       "      <td>WHILE THE TREES SLEEP</td>\n",
       "      <td>http://www.kickstarter.com/projects/emiliesaba...</td>\n",
       "      <td>Film &amp; Video</td>\n",
       "      <td>Short Film</td>\n",
       "      <td>Columbia, MO</td>\n",
       "      <td>successful</td>\n",
       "      <td>10500.0</td>\n",
       "      <td>11545.0</td>\n",
       "      <td>1.099524</td>\n",
       "      <td>...</td>\n",
       "      <td>7</td>\n",
       "      <td>$25,$50,$100,$250,$500,$1,000,$2,500</td>\n",
       "      <td>10</td>\n",
       "      <td>2</td>\n",
       "      <td>30.00</td>\n",
       "      <td>2011-07-20 15:28:17-04:00</td>\n",
       "      <td>2011-07-20</td>\n",
       "      <td>1970-01-01 00:00:00.000000015</td>\n",
       "      <td>1970-01-01 00:00:00.000000004</td>\n",
       "      <td>1970-01-01 00:00:00.000000008</td>\n",
       "    </tr>\n",
       "    <tr>\n",
       "      <th>1</th>\n",
       "      <td>126581</td>\n",
       "      <td>Educational Online Trading Card Game</td>\n",
       "      <td>http://www.kickstarter.com/projects/972789543/...</td>\n",
       "      <td>Games</td>\n",
       "      <td>Board &amp; Card Games</td>\n",
       "      <td>Maplewood, NJ</td>\n",
       "      <td>failed</td>\n",
       "      <td>4000.0</td>\n",
       "      <td>20.0</td>\n",
       "      <td>0.005000</td>\n",
       "      <td>...</td>\n",
       "      <td>5</td>\n",
       "      <td>$1,$5,$10,$25,$50</td>\n",
       "      <td>6</td>\n",
       "      <td>0</td>\n",
       "      <td>47.18</td>\n",
       "      <td>2010-06-15 19:39:48-04:00</td>\n",
       "      <td>2010-06-15</td>\n",
       "      <td>1970-01-01 00:00:00.000000023</td>\n",
       "      <td>1970-01-01 00:00:00.000000006</td>\n",
       "      <td>1970-01-01 00:00:00.000000008</td>\n",
       "    </tr>\n",
       "    <tr>\n",
       "      <th>2</th>\n",
       "      <td>138119</td>\n",
       "      <td>STRUM</td>\n",
       "      <td>http://www.kickstarter.com/projects/185476022/...</td>\n",
       "      <td>Film &amp; Video</td>\n",
       "      <td>Animation</td>\n",
       "      <td>Los Angeles, CA</td>\n",
       "      <td>live</td>\n",
       "      <td>20000.0</td>\n",
       "      <td>56.0</td>\n",
       "      <td>0.002800</td>\n",
       "      <td>...</td>\n",
       "      <td>10</td>\n",
       "      <td>$1,$10,$25,$40,$50,$100,$250,$1,000,$1,337,$9,001</td>\n",
       "      <td>1</td>\n",
       "      <td>0</td>\n",
       "      <td>28.00</td>\n",
       "      <td>2012-05-10 20:00:31-04:00</td>\n",
       "      <td>2012-05-10</td>\n",
       "      <td>1970-01-01 00:00:00.000000020</td>\n",
       "      <td>1970-01-01 00:00:00.000000003</td>\n",
       "      <td>1970-01-01 00:00:00.000000006</td>\n",
       "    </tr>\n",
       "    <tr>\n",
       "      <th>3</th>\n",
       "      <td>237090</td>\n",
       "      <td>GETTING OVER - One son's search to finally kno...</td>\n",
       "      <td>http://www.kickstarter.com/projects/charnick/g...</td>\n",
       "      <td>Film &amp; Video</td>\n",
       "      <td>Documentary</td>\n",
       "      <td>Los Angeles, CA</td>\n",
       "      <td>successful</td>\n",
       "      <td>6000.0</td>\n",
       "      <td>6535.0</td>\n",
       "      <td>1.089167</td>\n",
       "      <td>...</td>\n",
       "      <td>13</td>\n",
       "      <td>$1,$10,$25,$30,$50,$75,$85,$100,$110,$250,$500...</td>\n",
       "      <td>4</td>\n",
       "      <td>0</td>\n",
       "      <td>32.22</td>\n",
       "      <td>2012-03-06 15:57:12-05:00</td>\n",
       "      <td>2012-03-06</td>\n",
       "      <td>1970-01-01 00:00:00.000000022</td>\n",
       "      <td>1970-01-01 00:00:00.000000005</td>\n",
       "      <td>1970-01-01 00:00:00.000000004</td>\n",
       "    </tr>\n",
       "    <tr>\n",
       "      <th>4</th>\n",
       "      <td>246101</td>\n",
       "      <td>The Launch of FlyeGrlRoyalty &amp;quot;The New Nam...</td>\n",
       "      <td>http://www.kickstarter.com/projects/flyegrlroy...</td>\n",
       "      <td>Fashion</td>\n",
       "      <td>Fashion</td>\n",
       "      <td>Novi, MI</td>\n",
       "      <td>failed</td>\n",
       "      <td>3500.0</td>\n",
       "      <td>0.0</td>\n",
       "      <td>0.000000</td>\n",
       "      <td>...</td>\n",
       "      <td>6</td>\n",
       "      <td>$10,$25,$50,$100,$150,$250</td>\n",
       "      <td>2</td>\n",
       "      <td>0</td>\n",
       "      <td>30.00</td>\n",
       "      <td>2011-05-02 11:25:39-04:00</td>\n",
       "      <td>2011-05-02</td>\n",
       "      <td>1970-01-01 00:00:00.000000011</td>\n",
       "      <td>1970-01-01 00:00:00.000000002</td>\n",
       "      <td>1970-01-01 00:00:00.000000006</td>\n",
       "    </tr>\n",
       "    <tr>\n",
       "      <th>...</th>\n",
       "      <td>...</td>\n",
       "      <td>...</td>\n",
       "      <td>...</td>\n",
       "      <td>...</td>\n",
       "      <td>...</td>\n",
       "      <td>...</td>\n",
       "      <td>...</td>\n",
       "      <td>...</td>\n",
       "      <td>...</td>\n",
       "      <td>...</td>\n",
       "      <td>...</td>\n",
       "      <td>...</td>\n",
       "      <td>...</td>\n",
       "      <td>...</td>\n",
       "      <td>...</td>\n",
       "      <td>...</td>\n",
       "      <td>...</td>\n",
       "      <td>...</td>\n",
       "      <td>...</td>\n",
       "      <td>...</td>\n",
       "      <td>...</td>\n",
       "    </tr>\n",
       "    <tr>\n",
       "      <th>45952</th>\n",
       "      <td>2147336747</td>\n",
       "      <td>The Dance Project</td>\n",
       "      <td>http://www.kickstarter.com/projects/685772205/...</td>\n",
       "      <td>Dance</td>\n",
       "      <td>Dance</td>\n",
       "      <td>Austin, TX</td>\n",
       "      <td>successful</td>\n",
       "      <td>500.0</td>\n",
       "      <td>601.0</td>\n",
       "      <td>1.202000</td>\n",
       "      <td>...</td>\n",
       "      <td>3</td>\n",
       "      <td>$20,$50,$100</td>\n",
       "      <td>2</td>\n",
       "      <td>0</td>\n",
       "      <td>37.83</td>\n",
       "      <td>2012-02-21 13:01:48-05:00</td>\n",
       "      <td>2012-02-21</td>\n",
       "      <td>1970-01-01 00:00:00.000000009</td>\n",
       "      <td>1970-01-01 00:00:00.000000004</td>\n",
       "      <td>1970-01-01 00:00:00.000000003</td>\n",
       "    </tr>\n",
       "    <tr>\n",
       "      <th>45953</th>\n",
       "      <td>2147346811</td>\n",
       "      <td>new album from J-Sw!ft The Adventures of Negro...</td>\n",
       "      <td>http://www.kickstarter.com/projects/170926480/...</td>\n",
       "      <td>Music</td>\n",
       "      <td>Hip-Hop</td>\n",
       "      <td>Los Angeles, CA</td>\n",
       "      <td>failed</td>\n",
       "      <td>10000.0</td>\n",
       "      <td>75.0</td>\n",
       "      <td>0.007500</td>\n",
       "      <td>...</td>\n",
       "      <td>14</td>\n",
       "      <td>$1,$5,$10,$25,$50,$50,$75,$100,$200,$250,$500,...</td>\n",
       "      <td>1</td>\n",
       "      <td>1</td>\n",
       "      <td>59.96</td>\n",
       "      <td>2012-02-21 22:09:46-05:00</td>\n",
       "      <td>2012-02-21</td>\n",
       "      <td>1970-01-01 00:00:00.000000022</td>\n",
       "      <td>1970-01-01 00:00:00.000000005</td>\n",
       "      <td>1970-01-01 00:00:00.000000004</td>\n",
       "    </tr>\n",
       "    <tr>\n",
       "      <th>45954</th>\n",
       "      <td>2147367534</td>\n",
       "      <td>ELIZABETH REX</td>\n",
       "      <td>http://www.kickstarter.com/projects/elizabethr...</td>\n",
       "      <td>Music</td>\n",
       "      <td>Rock</td>\n",
       "      <td>Los Angeles, CA</td>\n",
       "      <td>successful</td>\n",
       "      <td>10000.0</td>\n",
       "      <td>10000.0</td>\n",
       "      <td>1.000000</td>\n",
       "      <td>...</td>\n",
       "      <td>4</td>\n",
       "      <td>$10,$25,$100,$500</td>\n",
       "      <td>2</td>\n",
       "      <td>0</td>\n",
       "      <td>27.32</td>\n",
       "      <td>2011-12-19 16:19:12-05:00</td>\n",
       "      <td>2011-12-19</td>\n",
       "      <td>1970-01-01 00:00:00.000000000</td>\n",
       "      <td>1970-01-01 00:00:00.000000000</td>\n",
       "      <td>1970-01-01 00:00:00.000000001</td>\n",
       "    </tr>\n",
       "    <tr>\n",
       "      <th>45955</th>\n",
       "      <td>2147369705</td>\n",
       "      <td>Dragon Keepers IV Book Project</td>\n",
       "      <td>http://www.kickstarter.com/projects/brucegoldw...</td>\n",
       "      <td>Publishing</td>\n",
       "      <td>Fiction</td>\n",
       "      <td>Vero Beach, FL</td>\n",
       "      <td>failed</td>\n",
       "      <td>2999.0</td>\n",
       "      <td>257.0</td>\n",
       "      <td>0.085695</td>\n",
       "      <td>...</td>\n",
       "      <td>7</td>\n",
       "      <td>$15,$16,$19,$29,$29,$39,$75</td>\n",
       "      <td>17</td>\n",
       "      <td>0</td>\n",
       "      <td>30.00</td>\n",
       "      <td>2012-04-19 15:44:47-04:00</td>\n",
       "      <td>2012-04-19</td>\n",
       "      <td>1970-01-01 00:00:00.000000015</td>\n",
       "      <td>1970-01-01 00:00:00.000000005</td>\n",
       "      <td>1970-01-01 00:00:00.000000005</td>\n",
       "    </tr>\n",
       "    <tr>\n",
       "      <th>45956</th>\n",
       "      <td>2147460119</td>\n",
       "      <td>Moments of Insight</td>\n",
       "      <td>http://www.kickstarter.com/projects/1743305220...</td>\n",
       "      <td>Art</td>\n",
       "      <td>Conceptual Art</td>\n",
       "      <td>Bozeman, MT</td>\n",
       "      <td>successful</td>\n",
       "      <td>18000.0</td>\n",
       "      <td>18758.0</td>\n",
       "      <td>1.042111</td>\n",
       "      <td>...</td>\n",
       "      <td>10</td>\n",
       "      <td>$25,$25,$50,$100,$125,$250,$500,$1,250,$2,500,...</td>\n",
       "      <td>20</td>\n",
       "      <td>4</td>\n",
       "      <td>40.38</td>\n",
       "      <td>2011-06-24 15:22:48-04:00</td>\n",
       "      <td>2011-06-24</td>\n",
       "      <td>1970-01-01 00:00:00.000000000</td>\n",
       "      <td>1970-01-01 00:00:00.000000003</td>\n",
       "      <td>1970-01-01 00:00:00.000000008</td>\n",
       "    </tr>\n",
       "  </tbody>\n",
       "</table>\n",
       "<p>45957 rows × 22 columns</p>\n",
       "</div>"
      ],
      "text/plain": [
       "       project id                                               name  \\\n",
       "0           39409                              WHILE THE TREES SLEEP   \n",
       "1          126581               Educational Online Trading Card Game   \n",
       "2          138119                                              STRUM   \n",
       "3          237090  GETTING OVER - One son's search to finally kno...   \n",
       "4          246101  The Launch of FlyeGrlRoyalty &quot;The New Nam...   \n",
       "...           ...                                                ...   \n",
       "45952  2147336747                                  The Dance Project   \n",
       "45953  2147346811  new album from J-Sw!ft The Adventures of Negro...   \n",
       "45954  2147367534                                      ELIZABETH REX   \n",
       "45955  2147369705                     Dragon Keepers IV Book Project   \n",
       "45956  2147460119                                 Moments of Insight   \n",
       "\n",
       "                                                     url      category  \\\n",
       "0      http://www.kickstarter.com/projects/emiliesaba...  Film & Video   \n",
       "1      http://www.kickstarter.com/projects/972789543/...         Games   \n",
       "2      http://www.kickstarter.com/projects/185476022/...  Film & Video   \n",
       "3      http://www.kickstarter.com/projects/charnick/g...  Film & Video   \n",
       "4      http://www.kickstarter.com/projects/flyegrlroy...       Fashion   \n",
       "...                                                  ...           ...   \n",
       "45952  http://www.kickstarter.com/projects/685772205/...         Dance   \n",
       "45953  http://www.kickstarter.com/projects/170926480/...         Music   \n",
       "45954  http://www.kickstarter.com/projects/elizabethr...         Music   \n",
       "45955  http://www.kickstarter.com/projects/brucegoldw...    Publishing   \n",
       "45956  http://www.kickstarter.com/projects/1743305220...           Art   \n",
       "\n",
       "              subcategory         location      status     goal  pledged  \\\n",
       "0              Short Film     Columbia, MO  successful  10500.0  11545.0   \n",
       "1      Board & Card Games    Maplewood, NJ      failed   4000.0     20.0   \n",
       "2               Animation  Los Angeles, CA        live  20000.0     56.0   \n",
       "3             Documentary  Los Angeles, CA  successful   6000.0   6535.0   \n",
       "4                 Fashion         Novi, MI      failed   3500.0      0.0   \n",
       "...                   ...              ...         ...      ...      ...   \n",
       "45952               Dance       Austin, TX  successful    500.0    601.0   \n",
       "45953             Hip-Hop  Los Angeles, CA      failed  10000.0     75.0   \n",
       "45954                Rock  Los Angeles, CA  successful  10000.0  10000.0   \n",
       "45955             Fiction   Vero Beach, FL      failed   2999.0    257.0   \n",
       "45956      Conceptual Art      Bozeman, MT  successful  18000.0  18758.0   \n",
       "\n",
       "       funded percentage  ...  levels  \\\n",
       "0               1.099524  ...       7   \n",
       "1               0.005000  ...       5   \n",
       "2               0.002800  ...      10   \n",
       "3               1.089167  ...      13   \n",
       "4               0.000000  ...       6   \n",
       "...                  ...  ...     ...   \n",
       "45952           1.202000  ...       3   \n",
       "45953           0.007500  ...      14   \n",
       "45954           1.000000  ...       4   \n",
       "45955           0.085695  ...       7   \n",
       "45956           1.042111  ...      10   \n",
       "\n",
       "                                           reward levels  updates comments  \\\n",
       "0                   $25,$50,$100,$250,$500,$1,000,$2,500       10        2   \n",
       "1                                      $1,$5,$10,$25,$50        6        0   \n",
       "2      $1,$10,$25,$40,$50,$100,$250,$1,000,$1,337,$9,001        1        0   \n",
       "3      $1,$10,$25,$30,$50,$75,$85,$100,$110,$250,$500...        4        0   \n",
       "4                             $10,$25,$50,$100,$150,$250        2        0   \n",
       "...                                                  ...      ...      ...   \n",
       "45952                                       $20,$50,$100        2        0   \n",
       "45953  $1,$5,$10,$25,$50,$50,$75,$100,$200,$250,$500,...        1        1   \n",
       "45954                                  $10,$25,$100,$500        2        0   \n",
       "45955                        $15,$16,$19,$29,$29,$39,$75       17        0   \n",
       "45956  $25,$25,$50,$100,$125,$250,$500,$1,250,$2,500,...       20        4   \n",
       "\n",
       "       duration                      east       Date  \\\n",
       "0         30.00 2011-07-20 15:28:17-04:00 2011-07-20   \n",
       "1         47.18 2010-06-15 19:39:48-04:00 2010-06-15   \n",
       "2         28.00 2012-05-10 20:00:31-04:00 2012-05-10   \n",
       "3         32.22 2012-03-06 15:57:12-05:00 2012-03-06   \n",
       "4         30.00 2011-05-02 11:25:39-04:00 2011-05-02   \n",
       "...         ...                       ...        ...   \n",
       "45952     37.83 2012-02-21 13:01:48-05:00 2012-02-21   \n",
       "45953     59.96 2012-02-21 22:09:46-05:00 2012-02-21   \n",
       "45954     27.32 2011-12-19 16:19:12-05:00 2011-12-19   \n",
       "45955     30.00 2012-04-19 15:44:47-04:00 2012-04-19   \n",
       "45956     40.38 2011-06-24 15:22:48-04:00 2011-06-24   \n",
       "\n",
       "                               Hour                           Day  \\\n",
       "0     1970-01-01 00:00:00.000000015 1970-01-01 00:00:00.000000004   \n",
       "1     1970-01-01 00:00:00.000000023 1970-01-01 00:00:00.000000006   \n",
       "2     1970-01-01 00:00:00.000000020 1970-01-01 00:00:00.000000003   \n",
       "3     1970-01-01 00:00:00.000000022 1970-01-01 00:00:00.000000005   \n",
       "4     1970-01-01 00:00:00.000000011 1970-01-01 00:00:00.000000002   \n",
       "...                             ...                           ...   \n",
       "45952 1970-01-01 00:00:00.000000009 1970-01-01 00:00:00.000000004   \n",
       "45953 1970-01-01 00:00:00.000000022 1970-01-01 00:00:00.000000005   \n",
       "45954 1970-01-01 00:00:00.000000000 1970-01-01 00:00:00.000000000   \n",
       "45955 1970-01-01 00:00:00.000000015 1970-01-01 00:00:00.000000005   \n",
       "45956 1970-01-01 00:00:00.000000000 1970-01-01 00:00:00.000000003   \n",
       "\n",
       "                              Month  \n",
       "0     1970-01-01 00:00:00.000000008  \n",
       "1     1970-01-01 00:00:00.000000008  \n",
       "2     1970-01-01 00:00:00.000000006  \n",
       "3     1970-01-01 00:00:00.000000004  \n",
       "4     1970-01-01 00:00:00.000000006  \n",
       "...                             ...  \n",
       "45952 1970-01-01 00:00:00.000000003  \n",
       "45953 1970-01-01 00:00:00.000000004  \n",
       "45954 1970-01-01 00:00:00.000000001  \n",
       "45955 1970-01-01 00:00:00.000000005  \n",
       "45956 1970-01-01 00:00:00.000000008  \n",
       "\n",
       "[45957 rows x 22 columns]"
      ]
     },
     "execution_count": 238,
     "metadata": {},
     "output_type": "execute_result"
    }
   ],
   "source": [
    "df"
   ]
  },
  {
   "cell_type": "code",
   "execution_count": 239,
   "id": "26cb0834",
   "metadata": {},
   "outputs": [],
   "source": [
    "successful_state_df = df[df['status'] == \"successful\"]\n",
    "df_success_month = successful_state_df.groupby(successful_state_df[\"east\"].dt.month).size().rename_axis('month of the year').reset_index(name='success counts')\n",
    "df_total_month = df.groupby(df[\"east\"].dt.month).size().rename_axis('month of the year').reset_index(name='total counts')\n",
    "success_rate_month = pd.merge(df_success_month, df_total_month, on='month of the year')\n",
    "success_rate_month ['success rate in %'] = success_rate_month ['success counts']/success_rate_month ['total counts']*100"
   ]
  },
  {
   "cell_type": "code",
   "execution_count": 240,
   "id": "12df7ebc",
   "metadata": {},
   "outputs": [
    {
     "data": {
      "text/plain": [
       "Text(0, 0.5, 'success rate in %')"
      ]
     },
     "execution_count": 240,
     "metadata": {},
     "output_type": "execute_result"
    },
    {
     "data": {
      "image/png": "[encoded data removed]",
      "text/plain": [
       "<Figure size 1440x648 with 1 Axes>"
      ]
     },
     "metadata": {},
     "output_type": "display_data"
    }
   ],
   "source": [
    "plt.plot(success_rate_month['month of the year'], success_rate_month['success rate in %'])\n",
    "plt.xlabel(\"month of the year\");  # custom x label using matplotlib\n",
    "plt.ylabel(\"success rate in %\")"
   ]
  },
  {
   "cell_type": "code",
   "execution_count": 241,
   "id": "a3c51a32",
   "metadata": {},
   "outputs": [],
   "source": [
    "df_success_day = successful_state_df.groupby(successful_state_df[\"east\"].dt.dayofweek).size().rename_axis('day of the week').reset_index(name='success counts')\n",
    "df_total_day = df.groupby(df[\"east\"].dt.dayofweek).size().rename_axis('day of the week').reset_index(name='total counts')\n",
    "success_rate_day = pd.merge(df_success_day, df_total_day, on='day of the week')\n",
    "success_rate_day ['success rate in %'] = success_rate_day ['success counts']/success_rate_day ['total counts']*100"
   ]
  },
  {
   "cell_type": "code",
   "execution_count": 242,
   "id": "383be2d7",
   "metadata": {},
   "outputs": [
    {
     "data": {
      "text/plain": [
       "Text(0, 0.5, 'success rate in %')"
      ]
     },
     "execution_count": 242,
     "metadata": {},
     "output_type": "execute_result"
    },
    {
     "data": {
      "image/png": "[encoded data removed]",
      "text/plain": [
       "<Figure size 1440x648 with 1 Axes>"
      ]
     },
     "metadata": {},
     "output_type": "display_data"
    }
   ],
   "source": [
    "plt.plot(success_rate_day['day of the week'], success_rate_day['success rate in %'])\n",
    "plt.xlabel(\"day of the week\");  # custom x label using matplotlib\n",
    "plt.ylabel(\"success rate in %\")"
   ]
  },
  {
   "cell_type": "code",
   "execution_count": 246,
   "id": "16352e6d",
   "metadata": {},
   "outputs": [],
   "source": [
    "df_success_hour = successful_state_df.groupby(successful_state_df[\"east\"].dt.hour).size().rename_axis('hour of the day').reset_index(name='success counts')\n",
    "df_total_hour = df.groupby(df[\"east\"].dt.hour).size().rename_axis('hour of the day').reset_index(name='total counts')\n",
    "success_rate_hour = pd.merge(df_success_hour, df_total_hour, on='hour of the day')\n",
    "success_rate_hour ['success rate in %'] = success_rate_hour ['success counts']/success_rate_hour ['total counts']*100"
   ]
  },
  {
   "cell_type": "code",
   "execution_count": 247,
   "id": "4fa02c0c",
   "metadata": {},
   "outputs": [
    {
     "data": {
      "text/plain": [
       "Text(0, 0.5, 'success rate in %')"
      ]
     },
     "execution_count": 247,
     "metadata": {},
     "output_type": "execute_result"
    },
    {
     "data": {
      "image/png": "[encoded data removed]",
      "text/plain": [
       "<Figure size 1440x648 with 1 Axes>"
      ]
     },
     "metadata": {},
     "output_type": "display_data"
    }
   ],
   "source": [
    "plt.plot(success_rate_hour['hour of the day'], success_rate_hour['success rate in %'])\n",
    "plt.xlabel(\"hour of the day\");  # custom x label using matplotlib\n",
    "plt.ylabel(\"success rate in %\")"
   ]
  },
  {
   "cell_type": "markdown",
   "id": "12a6267b",
   "metadata": {},
   "source": [
    "The most successful month is February, closely followed by October."
   ]
  },
  {
   "cell_type": "code",
   "execution_count": null,
   "id": "c9c01552",
   "metadata": {},
   "outputs": [],
   "source": []
  }
 ],
 "metadata": {
  "kernelspec": {
   "display_name": "Python 3 (ipykernel)",
   "language": "python",
   "name": "python3"
  },
  "language_info": {
   "codemirror_mode": {
    "name": "ipython",
    "version": 3
   },
   "file_extension": ".py",
   "mimetype": "text/x-python",
   "name": "python",
   "nbconvert_exporter": "python",
   "pygments_lexer": "ipython3",
   "version": "3.9.7"
  }
 },
 "nbformat": 4,
 "nbformat_minor": 5
}
